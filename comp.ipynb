{
  "cells": [
    {
      "cell_type": "markdown",
      "id": "ae953646",
      "metadata": {
        "id": "ae953646"
      },
      "source": [
        "**Начать стоит с того, что датасет очень объемный в части фич для каждого работяги. Итак, нам нужно будет сначала понять, что представляет собой каждая фича, и как она влияет на уровень зарплаты**"
      ]
    },
    {
      "cell_type": "code",
      "execution_count": null,
      "id": "252c898c",
      "metadata": {
        "colab": {
          "base_uri": "https://localhost:8080/"
        },
        "id": "252c898c",
        "outputId": "e180bd2a-deab-4440-d654-b386fde33e8f"
      },
      "outputs": [],
      "source": [
        "import pandas as pd\n",
        "\n",
        "\n",
        "train = pd.read_csv(\"engineers_salary_prediction/train.csv\")\n",
        "test = pd.read_csv(\"engineers_salary_prediction/test.csv\")\n",
        "\n",
        "print(train.info())\n",
        "print(train.describe())\n",
        "print(train.head())\n",
        "print(train.isnull().sum())"
      ]
    },
    {
      "cell_type": "markdown",
      "id": "1ed8949e",
      "metadata": {
        "id": "1ed8949e"
      },
      "source": [
        "<Data Dictionary>\n",
        "\n",
        "- obs: Observation number of the data\n",
        "- job_title: Anonymized job title\n",
        "- job_posted_date: Year and month when the job was posted\n",
        "- salary_category: The salary category (this is the target variable)\n",
        "- job_state: State where the job is located\n",
        "- feature_1 ~ feature_12: Various independent variables relating to job information\n",
        "- job_desc_1 ~ job_desc_300: Vectorized representation of the job description"
      ]
    },
    {
      "cell_type": "code",
      "execution_count": null,
      "id": "ee9ea0ae",
      "metadata": {
        "colab": {
          "base_uri": "https://localhost:8080/",
          "height": 472
        },
        "id": "ee9ea0ae",
        "outputId": "ee272d48-e61a-434b-e3de-c0f38daa4d85"
      },
      "outputs": [],
      "source": [
        "import seaborn as sns\n",
        "import matplotlib.pyplot as plt\n",
        "\n",
        "\n",
        "sns.countplot(data = train, x = 'salary_category')\n",
        "plt.title(\"Distr of salary category as training feature\")\n",
        "plt.show()"
      ]
    },
    {
      "cell_type": "markdown",
      "id": "6e5172ed",
      "metadata": {
        "id": "6e5172ed"
      },
      "source": [
        "В целом класс сбаланирован, но интересен момент, что инженеров с высоким уровнем дохода больше(хотя сначала могло казаться, что по стандартному нормальному распределению средний уровень зарплаты должен превалировать над другими)."
      ]
    },
    {
      "cell_type": "code",
      "execution_count": null,
      "id": "814ed478",
      "metadata": {
        "colab": {
          "base_uri": "https://localhost:8080/",
          "height": 556
        },
        "id": "814ed478",
        "outputId": "f8150859-d57b-40d9-9dfd-aa192e92f4e5"
      },
      "outputs": [],
      "source": [
        "plt.figure(figsize = (10, 5))\n",
        "sns.countplot(data = train, x = 'job_title', hue = 'salary_category')\n",
        "plt.xticks(rotation = 90)\n",
        "plt.title('Job title distr by salary category')\n",
        "plt.show()"
      ]
    },
    {
      "cell_type": "markdown",
      "id": "b45b7d8e",
      "metadata": {
        "id": "b45b7d8e"
      },
      "source": [
        "не понял"
      ]
    },
    {
      "cell_type": "code",
      "execution_count": null,
      "id": "dc494b62",
      "metadata": {
        "colab": {
          "base_uri": "https://localhost:8080/",
          "height": 1000
        },
        "id": "dc494b62",
        "outputId": "a2c83c8c-d1b1-4dab-f4fb-43c7bb014585"
      },
      "outputs": [],
      "source": [
        "numeric_features = [f'feature_{i}' for i in range(1, 12)]\n",
        "\n",
        "for feature in numeric_features:\n",
        "    plt.figure(figsize = (10, 5))\n",
        "    sns.histplot(train[feature], kde = True, bins = 30)\n",
        "    plt.title(f'Distr of {feature}')\n",
        "    plt.show()"
      ]
    },
    {
      "cell_type": "markdown",
      "id": "18d0ee7c",
      "metadata": {
        "id": "18d0ee7c"
      },
      "source": [
        "Стандартизировать значения не имеет смысла - распределение фичей не нормальное"
      ]
    },
    {
      "cell_type": "code",
      "execution_count": null,
      "id": "6c7ddcb4",
      "metadata": {
        "colab": {
          "base_uri": "https://localhost:8080/",
          "height": 1000
        },
        "id": "6c7ddcb4",
        "outputId": "f23b4f4d-4f7d-499a-d7c0-bf19b16df0ee"
      },
      "outputs": [],
      "source": [
        "from sklearn.preprocessing import LabelEncoder\n",
        "\n",
        "\n",
        "le = LabelEncoder()\n",
        "train['salary_category_encoded'] = le.fit_transform(train['salary_category'])\n",
        "\n",
        "train['job_title_encoded'] = le.fit_transform(train['job_title'])\n",
        "train['job_state_encoded'] = le.fit_transform(train['job_state'])\n",
        "train['job_posted_date'] = pd.to_datetime(train['job_posted_date'])\n",
        "train['year'] = train['job_posted_date'].dt.year\n",
        "train['month'] = train['job_posted_date'].dt.month\n",
        "\n",
        "job_desc_columns = [f'job_desc_{str(i).zfill(3)}' for i in range(1, 301)]\n",
        "numeric_features = [f'feature_{i}' for i in range (1, 13)] + job_desc_columns + ['job_title_encoded', 'job_state_encoded', 'year', 'month', 'salary_category_encoded']\n",
        "numeric_data = train[numeric_features]\n",
        "\n",
        "non_numeric_columns = numeric_data.select_dtypes(exclude=['number']).columns\n",
        "print(\"Non-numeric columns:\", non_numeric_columns)\n",
        "\n",
        "for col in non_numeric_columns:\n",
        "    le = LabelEncoder()\n",
        "    numeric_data[col] = le.fit_transform(train[col])\n",
        "\n",
        "missing_features = [col for col in numeric_features if col not in train.columns]\n",
        "if missing_features:\n",
        "    print(f\"Missing features: {missing_features}\")\n",
        "else:\n",
        "    print(\"All features presented in the dataset\")\n",
        "\n",
        "# zero_check_features = [f'job_desc_{str(i).zfill(3)}' for i in range(1, 301)]\n",
        "# rows_with_zeros = (numeric_data[zero_check_features] == 0 ).all(axis = 1)\n",
        "# print(f\"ABCD: {rows_with_zeros.sum()}\")\n",
        "# train_filtered = numeric_data[~rows_with_zeros]\n",
        "\n",
        "#print(numeric_data.dtypes)\n",
        "#print(numeric_data[zero_check_features].dtypes)\n",
        "# print(f\"Original: {len(numeric_data)}\")\n",
        "# print(f\"Filtered: {len(train_filtered)}\")\n",
        "\n",
        "corr_matrix = numeric_data.corr()\n",
        "\n",
        "correlation_with_target = corr_matrix['salary_category_encoded'].sort_values(ascending = False)\n",
        "\n",
        "print(\"Correlation eith salary category\")\n",
        "print(correlation_with_target)\n",
        "\n",
        "plt.figure(figsize = (20, 20))\n",
        "sns.heatmap(corr_matrix, annot = False, cmap = 'coolwarm', fmt = '.2f')\n",
        "plt.title(\"Correlation matrix\")\n",
        "plt.show()"
      ]
    },
    {
      "cell_type": "markdown",
      "id": "a7caf4d3",
      "metadata": {
        "id": "a7caf4d3"
      },
      "source": [
        "По тепловой карте замечаю, что фичи скоррелированы в необычном формате - карта выглядит симметричной и сегментированной на области(некая \"сетка\"). Скорее всего это связано с тем, что датасет и фичи в частности были сгенерированы по какому-то распределению(незвестному нам, очевидно).\n",
        "\n",
        "**В идеях не использовать фичи, скоррелированные с salary_category более чем на |0.5|**"
      ]
    },
    {
      "cell_type": "code",
      "execution_count": null,
      "id": "c4c7d213",
      "metadata": {
        "colab": {
          "base_uri": "https://localhost:8080/"
        },
        "id": "c4c7d213",
        "outputId": "0c937cfc-1a5b-4c09-dd78-fb1a10dc3863"
      },
      "outputs": [],
      "source": [
        "correlation_threshold = 0.5\n",
        "\n",
        "high_corr_features = correlation_with_target[(correlation_with_target.abs() > correlation_threshold) & (correlation_with_target.index != 'salary_category_encoded')].index\n",
        "\n",
        "print(\"Features with high correlation:\")\n",
        "print(high_corr_features)\n",
        "numeric_data_filtered = numeric_data.drop(columns = high_corr_features)\n",
        "\n",
        "# all_zero_rows = (numeric_data_filtered == 0).all(axis = 1)\n",
        "\n",
        "# print(all_zero_rows.sum())\n",
        "\n",
        "# numeric_data_filtered = numeric_data_filtered[~all_zero_rows]"
      ]
    },
    {
      "cell_type": "markdown",
      "id": "72266887",
      "metadata": {
        "id": "72266887"
      },
      "source": [
        "**Таких фич не оказалось**"
      ]
    },
    {
      "cell_type": "code",
      "execution_count": 27,
      "id": "041b6e36",
      "metadata": {
        "id": "041b6e36"
      },
      "outputs": [],
      "source": [
        "from sklearn.model_selection import train_test_split\n",
        "\n",
        "\n",
        "y = numeric_data_filtered['salary_category_encoded'] #target for predict\n",
        "\n",
        "X = numeric_data_filtered.drop(columns = ['salary_category_encoded']) #delete target from dataset\n",
        "\n",
        "X_train, X_val, y_train, y_val = train_test_split(X, y, test_size = 0.2, random_state = 42)"
      ]
    },
    {
      "cell_type": "code",
      "execution_count": null,
      "id": "UR0gvLDL-gws",
      "metadata": {
        "colab": {
          "base_uri": "https://localhost:8080/"
        },
        "id": "UR0gvLDL-gws",
        "outputId": "3ebbdfb2-6ab4-454f-a1ee-03ddf95e06d3"
      },
      "outputs": [],
      "source": [
        "!pip install catboost"
      ]
    },
    {
      "cell_type": "code",
      "execution_count": null,
      "id": "aafbd989",
      "metadata": {
        "colab": {
          "base_uri": "https://localhost:8080/",
          "height": 86,
          "referenced_widgets": [
            "ebe518ede00e4fbfa70efa0444345063"
          ]
        },
        "id": "aafbd989",
        "outputId": "9f0dbbac-f519-49a4-ea20-aec0c5d1975c"
      },
      "outputs": [],
      "source": [
        "from catboost import CatBoostClassifier, Pool\n",
        "from sklearn.metrics import accuracy_score\n",
        "\n",
        "\n",
        "# indices = np.arange(X_train.shape[0])\n",
        "# np.random.shuffle(indices)\n",
        "\n",
        "# X_train_shuffled = X_train.iloc[indices] if isinstance(X_train, pd.DataFrame) else X_train[indices]\n",
        "# y_train_shuffled = y_train.iloc[indices] if isinstance(y_train, pd.Series) else y_train[indices]\n",
        "\n",
        "# train_pool = Pool(X_train_shuffled, label=y_train_shuffled)\n",
        "# val_pool = Pool(X_val, label=y_val)\n",
        "\n",
        "model = CatBoostClassifier(\n",
        "    iterations=700,\n",
        "    learning_rate=0.2,\n",
        "    random_state=42,\n",
        "    verbose=100,\n",
        "    eval_metric='Accuracy',\n",
        "    l2_leaf_reg=3,\n",
        "    random_strength=2,\n",
        "    subsample=0.8,\n",
        "    colsample_bylevel=0.8,\n",
        "    bootstrap_type='Bernoulli',\n",
        "    #early_stopping_rounds=50\n",
        ")\n",
        "\n",
        "model.fit(\n",
        "    X_train, y_train,\n",
        "    eval_set=(X_val, y_val)\n",
        ")\n",
        "\n",
        "y_pred = model.predict(X_val)\n",
        "accuracy = accuracy_score(y_val, y_pred)\n",
        "print(f\"Validation Accuracy: {accuracy:.4f}\")\n",
        "\n",
        "model.save_model('catboost_model.cbm')\n",
        "\n",
        "loaded_model = CatBoostClassifier()\n",
        "loaded_model.load_model('catboost_model.cbm')\n",
        "\n",
        "predictions = loaded_model.predict(X_val)\n",
        "accuracy = accuracy_score(y_val, predictions)\n",
        "print(f\"Validation Accuracy (loaded model): {accuracy:.4f}\")"
      ]
    },
    {
      "cell_type": "markdown",
      "id": "42d79a86",
      "metadata": {
        "id": "42d79a86"
      },
      "source": [
        "Лучший результат == 0.8047"
      ]
    },
    {
      "cell_type": "code",
      "execution_count": null,
      "id": "ddbbb775",
      "metadata": {
        "id": "ddbbb775",
        "outputId": "bd8d9019-03b5-47e8-a836-feb1348ed4a4"
      },
      "outputs": [],
      "source": [
        "from xgboost import XGBClassifier\n",
        "from sklearn.metrics import accuracy_score\n",
        "from sklearn.model_selection import GridSearchCV\n",
        "\n",
        "\n",
        "model = XGBClassifier(n_estimators=1500, learning_rate=0.1, random_state=42)\n",
        "\n",
        "# param_grid = {'max_depth': [3, 5, 7], 'learning_rate': [0.01, 0.1, 0.2], 'n_estimators': [1000, 2000, 3000]}\n",
        "# grid_search = GridSearchCV(XGBClassifier(), param_grid, cv=3, scoring='accuracy')\n",
        "# grid_search.fit(X_train, y_train)\n",
        "# print(grid_search.best_params_)\n",
        "\n",
        "model.fit(X_train, y_train)\n",
        "\n",
        "y_pred = model.predict(X_val)\n",
        "model.save_model(\"xgboost.json\")\n",
        "print(f\"Validation Accuracy: {accuracy_score(y_val, y_pred):.4f}\")"
      ]
    },
    {
      "cell_type": "markdown",
      "id": "2b92ec6e",
      "metadata": {
        "id": "2b92ec6e"
      },
      "source": [
        "{'learning_rate': 0.01, 'max_depth': 7, 'n_estimators': 1000}"
      ]
    },
    {
      "cell_type": "code",
      "execution_count": null,
      "id": "7b100946",
      "metadata": {
        "id": "7b100946",
        "outputId": "35c5332a-3095-49eb-cec1-f4bcd92b5fc1"
      },
      "outputs": [],
      "source": [
        "from lightgbm import LGBMClassifier\n",
        "\n",
        "\n",
        "model = LGBMClassifier(n_estimators = 5000, learning_rate = 0.1, random_state = 42)\n",
        "model.fit(X_train, y_train)\n",
        "y_pred = model.predict(X_val)\n",
        "#model.save_model('lightgbm_model.cbm')\n",
        "print(f\"Validation aacuracy: {accuracy_score(y_val, y_pred):.4f}\")"
      ]
    },
    {
      "cell_type": "code",
      "execution_count": null,
      "id": "0d588a70",
      "metadata": {
        "colab": {
          "base_uri": "https://localhost:8080/"
        },
        "id": "0d588a70",
        "outputId": "0ab87d6c-39ba-4f5c-e017-13bfedcd3a9c"
      },
      "outputs": [],
      "source": [
        "import optuna\n",
        "from sklearn.ensemble import RandomForestClassifier\n",
        "from sklearn.metrics import accuracy_score\n",
        "from sklearn.model_selection import train_test_split\n",
        "\n",
        "X_train, X_val, y_train, y_val = train_test_split(\n",
        "    X,\n",
        "    y,\n",
        "    test_size=0.2,\n",
        "    random_state=42,\n",
        "    stratify=y\n",
        ")\n",
        "\n",
        "def objective(trial):\n",
        "    n_estimators = trial.suggest_int(\"n_estimators\", 100, 1000)\n",
        "    max_depth = trial.suggest_int(\"max_depth\", 5, 50)\n",
        "    min_samples_split = trial.suggest_int(\"min_samples_split\", 2, 20)\n",
        "    min_samples_leaf = trial.suggest_int(\"min_samples_leaf\", 1, 10)\n",
        "    bootstrap = trial.suggest_categorical(\"bootstrap\", [True, False])\n",
        "\n",
        "    model = RandomForestClassifier(\n",
        "        n_estimators=n_estimators,\n",
        "        max_depth=max_depth,\n",
        "        min_samples_split=min_samples_split,\n",
        "        min_samples_leaf=min_samples_leaf,\n",
        "        bootstrap=bootstrap,\n",
        "        random_state=42,\n",
        "        n_jobs=-1\n",
        "    )\n",
        "\n",
        "    model.fit(X_train, y_train)\n",
        "\n",
        "    y_pred = model.predict(X_val)\n",
        "\n",
        "    accuracy = accuracy_score(y_val, y_pred)\n",
        "    return accuracy\n",
        "\n",
        "study = optuna.create_study(direction=\"maximize\")\n",
        "\n",
        "study.optimize(objective, n_trials=50)\n",
        "\n",
        "print(\"Best parameters:\", study.best_params)\n",
        "print(\"Best accuracy:\", study.best_value)"
      ]
    },
    {
      "cell_type": "code",
      "execution_count": null,
      "id": "bkz3yagmE4be",
      "metadata": {
        "colab": {
          "base_uri": "https://localhost:8080/"
        },
        "id": "bkz3yagmE4be",
        "outputId": "f70bc975-77a4-4ab5-d3a6-4dbf4ecb7678"
      },
      "outputs": [],
      "source": [
        "from sklearn.ensemble import RandomForestClassifier\n",
        "\n",
        "\n",
        "model = RandomForestClassifier(n_estimators=420, max_depth = 36, min_samples_split=17, min_samples_leaf=1, bootstrap = False)\n",
        "model.fit(X_train, y_train)\n",
        "\n",
        "y_pred = model.predict(X_val)\n",
        "print(f\"Validation Accuracy: {accuracy_score(y_val, y_pred):.4f}\")"
      ]
    },
    {
      "cell_type": "code",
      "execution_count": null,
      "id": "28e42fdd",
      "metadata": {
        "id": "28e42fdd",
        "outputId": "d8074098-9900-4e99-9dc0-d99a1d2d2dc9"
      },
      "outputs": [],
      "source": [
        "from sklearn.ensemble import StackingClassifier\n",
        "from sklearn.linear_model import LogisticRegression\n",
        "\n",
        "\n",
        "estimators = [('xgb', XGBClassifier()), ('lgbm', LGBMClassifier())]\n",
        "model = StackingClassifier(estimators=estimators, final_estimator=LogisticRegression())\n",
        "model.fit(X_train, y_train)\n",
        "y_pred = model.predict(X_val)\n",
        "print(f\"Validation accuracy: {accuracy_score(y_val, y_pred):.4f}\")"
      ]
    },
    {
      "cell_type": "code",
      "execution_count": null,
      "id": "2905f4eb",
      "metadata": {
        "id": "2905f4eb"
      },
      "outputs": [],
      "source": [
        "# for col in numeric_features:\n",
        "#     train[col] = pd.to_numeric(train[col], errors='coerce')\n",
        "#     test[col] = pd.to_numeric(test[col], errors='coerce')\n",
        "\n",
        "# train[numeric_features] = train[numeric_features].fillna(0)\n",
        "# test[numeric_features] = test[numeric_features].fillna(0)\n",
        "\n",
        "# train['feature_sum'] = train[numeric_features[:12]].sum(axis=1)\n",
        "# train['feature_mean'] = train[numeric_features[:12]].mean(axis=1)\n",
        "# train['feature_std'] = train[numeric_features[:12]].std(axis=1)\n",
        "\n",
        "# test['feature_sum'] = test[numeric_features[:12]].sum(axis=1)\n",
        "# test['feature_mean'] = test[numeric_features[:12]].mean(axis=1)\n",
        "# test['feature_std'] = test[numeric_features[:12]].std(axis=1)\n",
        "\n",
        "# train['feature_1_x_feature_2'] = train['feature_1'] * train['feature_2']\n",
        "# train['feature_1_div_feature_2'] = train['feature_1'] / (train['feature_2'] + 1e-6)\n",
        "\n",
        "# test['feature_1_x_feature_2'] = test['feature_1'] * test['feature_2']\n",
        "# test['feature_1_div_feature_2'] = test['feature_1'] / (test['feature_2'] + 1e-6)\n",
        "\n",
        "# new_features = ['feature_sum', 'feature_mean', 'feature_std', 'feature_1_x_feature_2', 'feature_1_div_feature_2']\n",
        "# for col in new_features:\n",
        "#     train[col] = pd.to_numeric(train[col], errors='coerce')\n",
        "#     test[col] = pd.to_numeric(test[col], errors='coerce')\n",
        "\n",
        "# test['job_title_encoded'] = le.transform(test['job_title'])\n",
        "# test['job_state_encoded'] = le.transform(test['job_state'])\n",
        "\n",
        "# test['job_posted_date'] = pd.to_datetime(test['job_posted_date'])\n",
        "# test['year'] = test['job_posted_date'].dt.year\n",
        "# test['month'] = test['job_posted_date'].dt.month\n",
        "\n",
        "# missing_features = set(train.columns) - set(test.columns)\n",
        "# for feature in missing_features:\n",
        "#     test[feature] = 0\n",
        "\n",
        "# if 'salary_category_encoded' in numeric_features:\n",
        "#     numeric_features.remove('salary_category_encoded')\n",
        "\n",
        "# numeric_features += new_features\n",
        "\n",
        "# assert set(train.columns) == set(test.columns), \"Train and test columns do not match!\""
      ]
    },
    {
      "cell_type": "code",
      "execution_count": null,
      "id": "ada65d8c",
      "metadata": {
        "colab": {
          "base_uri": "https://localhost:8080/",
          "height": 547
        },
        "id": "ada65d8c",
        "outputId": "70d1d936-ad9c-4ae4-ae66-3d62936c2f5e"
      },
      "outputs": [],
      "source": [
        "import numpy as np\n",
        "import pandas as pd\n",
        "import torch\n",
        "from torch.utils.data import DataLoader, Dataset\n",
        "import torch.nn as nn\n",
        "import torch.nn.functional as F\n",
        "import torch.optim as optim\n",
        "from sklearn.preprocessing import LabelEncoder\n",
        "from sklearn.metrics import accuracy_score\n",
        "\n",
        "\n",
        "numeric_features = [f'feature_{i}' for i in range(1, 13)] + \\\n",
        "                   [f'job_desc_{str(i).zfill(3)}' for i in range(1, 301)]\n",
        "\n",
        "for col in numeric_features:\n",
        "    train[col] = pd.to_numeric(train[col], errors='coerce')\n",
        "    test[col] = pd.to_numeric(test[col], errors='coerce')\n",
        "\n",
        "train[numeric_features] = train[numeric_features].fillna(0)\n",
        "test[numeric_features] = test[numeric_features].fillna(0)\n",
        "\n",
        "X_train = train[numeric_features].values.astype(np.float32)\n",
        "X_test = test[numeric_features].values.astype(np.float32)\n",
        "y_train = train['salary_category_encoded'].values.astype(np.int64)\n",
        "\n",
        "class SalaryDataset(Dataset):\n",
        "    def __init__(self, X, y=None):\n",
        "        self.X = torch.tensor(X, dtype=torch.float32).unsqueeze(-1)\n",
        "        self.y = torch.tensor(y, dtype=torch.long) if y is not None else None\n",
        "\n",
        "    def __len__(self):\n",
        "        return len(self.X)\n",
        "\n",
        "    def __getitem__(self, idx):\n",
        "        if self.y is not None:\n",
        "            return self.X[idx], self.y[idx]\n",
        "        return self.X[idx]\n",
        "\n",
        "train_dataset = SalaryDataset(X_train, y_train)\n",
        "test_dataset = SalaryDataset(X_test)\n",
        "\n",
        "train_loader = DataLoader(train_dataset, batch_size=128, shuffle=True)\n",
        "test_loader = DataLoader(test_dataset, batch_size=128, shuffle=False)\n",
        "\n",
        "class CNN1DModel(nn.Module):\n",
        "    def __init__(self, input_length, num_classes):\n",
        "        super(CNN1DModel, self).__init__()\n",
        "\n",
        "        self.conv1 = nn.Conv1d(in_channels=1, out_channels=64, kernel_size=3, padding=1)\n",
        "        self.pool1 = nn.MaxPool1d(kernel_size=2)\n",
        "\n",
        "        self.conv2 = nn.Conv1d(in_channels=64, out_channels=128, kernel_size=3, padding=1)\n",
        "        self.pool2 = nn.MaxPool1d(kernel_size=2)\n",
        "\n",
        "        self.flatten = nn.Flatten()\n",
        "\n",
        "        self.fc1 = nn.Linear(128 * (input_length // 4), 128)\n",
        "        #self.dropout = nn.Dropout(0.5)\n",
        "        self.fc2 = nn.Linear(128, num_classes)\n",
        "\n",
        "    def forward(self, x):\n",
        "        x = x.permute(0, 2, 1)\n",
        "\n",
        "        x = F.relu(self.conv1(x))\n",
        "        x = self.pool1(x)\n",
        "\n",
        "        x = F.relu(self.conv2(x))\n",
        "        x = self.pool2(x)\n",
        "\n",
        "        x = self.flatten(x)\n",
        "\n",
        "        x = F.relu(self.fc1(x))\n",
        "        #x = self.dropout(x)\n",
        "        x = self.fc2(x)\n",
        "\n",
        "        return x\n",
        "\n",
        "input_length = X_train.shape[1]\n",
        "num_classes = len(np.unique(y_train))\n",
        "model = CNN1DModel(input_length, num_classes)\n",
        "\n",
        "criterion = nn.CrossEntropyLoss()\n",
        "optimizer = optim.Adam(model.parameters(), lr=0.000515)\n",
        "\n",
        "def train_model(model, train_loader, criterion, optimizer, num_epochs=250):\n",
        "    model.train()\n",
        "    for epoch in range(num_epochs):\n",
        "        running_loss = 0.0\n",
        "        all_labels = []\n",
        "        all_preds = []\n",
        "        for inputs, labels in train_loader:\n",
        "            optimizer.zero_grad()\n",
        "            outputs = model(inputs)\n",
        "            _, preds = torch.max(outputs, 1)\n",
        "            loss = criterion(outputs, labels)\n",
        "            loss.backward()\n",
        "            optimizer.step()\n",
        "\n",
        "            running_loss += loss.item()\n",
        "            all_labels.extend(labels.cpu().numpy())\n",
        "            all_preds.extend(preds.cpu().numpy())\n",
        "        epoch_accuracy = accuracy_score(all_labels, all_preds)\n",
        "        print(f\"Epoch [{epoch + 1}/{num_epochs}], Loss: {running_loss / len(train_loader):.4f}, Accuracy: {epoch_accuracy:.4f}\")\n",
        "\n",
        "train_model(model, train_loader, criterion, optimizer, num_epochs=230)\n",
        "\n",
        "# def evaluate_model(model, test_loader, has_labels=True):\n",
        "#     model.eval()\n",
        "#     all_labels = []\n",
        "#     all_preds = []\n",
        "\n",
        "#     with torch.no_grad():\n",
        "#         for batch in test_loader:\n",
        "#             if has_labels:\n",
        "#                 inputs, labels = batch\n",
        "#             else:\n",
        "#                 inputs = batch\n",
        "#                 labels = None\n",
        "\n",
        "#             outputs = model(inputs)\n",
        "\n",
        "#             probs = torch.softmax(outputs, dim=1)\n",
        "#             _, preds = torch.argmax(probs, 1)\n",
        "\n",
        "#             if has_labels:\n",
        "#                 all_labels.extend(labels.cpu().numpy())\n",
        "#             all_preds.extend(preds.cpu().numpy())\n",
        "\n",
        "#     if has_labels:\n",
        "#         test_accuracy = accuracy_score(all_labels, all_preds)\n",
        "#         print(f\"Test Accuracy: {test_accuracy:.4f}\")\n",
        "#     else:\n",
        "#         print(\"No labels provided for evaluation.\")\n",
        "\n",
        "# evaluate_model(model, test_loader, has_labels = False)\n",
        "\n",
        "def predict(model, test_loader):\n",
        "    model.eval()\n",
        "    predictions = []\n",
        "    with torch.no_grad():\n",
        "        for inputs in test_loader:\n",
        "            outputs = model(inputs)\n",
        "            pred_probab = nn.Softmax(dim=1)(outputs)\n",
        "            preds = pred_probab.argmax(1)\n",
        "            predictions.extend(preds.cpu().numpy())\n",
        "    return predictions\n",
        "\n",
        "predictions = predict(model, test_loader)\n",
        "\n",
        "le = LabelEncoder()\n",
        "le.fit(['Low', 'Medium', 'High'])\n",
        "\n",
        "predictions = np.clip(predictions, 0, len(le.classes_) - 1)\n",
        "\n",
        "predicted_salary_category = le.inverse_transform(predictions)\n",
        "\n",
        "submission = pd.DataFrame({'obs': test['obs'], 'salary_category': predicted_salary_category})\n",
        "submission.to_csv('submission.csv', index=False)"
      ]
    },
    {
      "cell_type": "code",
      "execution_count": null,
      "id": "0c9a6c7e",
      "metadata": {
        "colab": {
          "base_uri": "https://localhost:8080/"
        },
        "id": "0c9a6c7e",
        "outputId": "f5b0b055-7fb3-404b-871f-ee677e0ccc7c"
      },
      "outputs": [],
      "source": [
        "import torch\n",
        "import torch.nn as nn\n",
        "import torch.nn.functional as F\n",
        "from torch.utils.data import DataLoader, Dataset\n",
        "from sklearn.metrics import accuracy_score\n",
        "\n",
        "\n",
        "class MLPModel(nn.Module):\n",
        "    def __init__(self, input_size, hidden_size, num_classes):\n",
        "        super(MLPModel, self).__init__()\n",
        "        self.fc1 = nn.Linear(input_size, hidden_size)\n",
        "        #self.dropout = nn.Dropout(0.5)\n",
        "        self.fc2 = nn.Linear(hidden_size, num_classes)\n",
        "\n",
        "    def forward(self, x):\n",
        "        x = F.relu(self.fc1(x))\n",
        "        #x = self.dropout(x)\n",
        "        x = self.fc2(x)\n",
        "        return x\n",
        "\n",
        "class SalaryDataset(Dataset):\n",
        "    def __init__(self, X, y=None):\n",
        "        self.X = torch.tensor(X, dtype=torch.float32)\n",
        "        self.y = torch.tensor(y, dtype=torch.long) if y is not None else None\n",
        "\n",
        "    def __len__(self):\n",
        "        return len(self.X)\n",
        "\n",
        "    def __getitem__(self, idx):\n",
        "        if self.y is not None:\n",
        "            return self.X[idx], self.y[idx]\n",
        "        return self.X[idx]\n",
        "\n",
        "train_dataset = SalaryDataset(X_train, y_train)\n",
        "test_dataset = SalaryDataset(X_test)\n",
        "\n",
        "train_loader = DataLoader(train_dataset, batch_size=312, shuffle=True)\n",
        "test_loader = DataLoader(test_dataset, batch_size=312, shuffle=False)\n",
        "\n",
        "input_size = X_train.shape[1]\n",
        "hidden_size = 128\n",
        "num_classes = len(np.unique(y_train))\n",
        "\n",
        "model = MLPModel(input_size, hidden_size, num_classes)\n",
        "\n",
        "criterion = nn.CrossEntropyLoss()\n",
        "optimizer = torch.optim.Adam(model.parameters(), lr=0.00525)\n",
        "\n",
        "def train_model(model, train_loader, criterion, optimizer, num_epochs=100):\n",
        "    model.train()\n",
        "    for epoch in range(num_epochs):\n",
        "        running_loss = 0.0\n",
        "        all_labels = []\n",
        "        all_preds = []\n",
        "\n",
        "        for inputs, labels in train_loader:\n",
        "            optimizer.zero_grad()\n",
        "            outputs = model(inputs)\n",
        "            probs = torch.softmax(outputs, dim = 1)\n",
        "            _, preds = torch.max(probs, 1)\n",
        "            loss = criterion(outputs, labels)\n",
        "            loss.backward()\n",
        "            optimizer.step()\n",
        "\n",
        "            running_loss += loss.item()\n",
        "            all_labels.extend(labels.cpu().numpy())\n",
        "            all_preds.extend(preds.cpu().numpy())\n",
        "\n",
        "        epoch_accuracy = accuracy_score(all_labels, all_preds)\n",
        "        print(f\"Epoch [{epoch + 1}/{num_epochs}], Loss: {running_loss / len(train_loader):.4f}, Accuracy: {epoch_accuracy:.4f}\")\n",
        "\n",
        "train_model(model, train_loader, criterion, optimizer, num_epochs=100)\n",
        "\n",
        "def predict(model, test_loader):\n",
        "    model.eval()\n",
        "    predictions = []\n",
        "    with torch.no_grad():\n",
        "        for inputs in test_loader:\n",
        "            outputs = model(inputs)\n",
        "            probs = torch.softmax(outputs, dim = 1)\n",
        "            _, preds = torch.max(probs, 1)\n",
        "            predictions.extend(preds.cpu().numpy())\n",
        "    return predictions\n",
        "\n",
        "predictions = predict(model, test_loader)\n",
        "\n",
        "from sklearn.preprocessing import LabelEncoder\n",
        "le = LabelEncoder()\n",
        "le.fit(['Low', 'Medium', 'High'])\n",
        "predicted_salary_category = le.inverse_transform(predictions)\n",
        "\n",
        "submission = pd.DataFrame({'obs': test['obs'], 'salary_category': predicted_salary_category})\n",
        "submission.to_csv('submission.csv', index=False)"
      ]
    },
    {
      "cell_type": "code",
      "execution_count": null,
      "id": "c07ced45",
      "metadata": {
        "colab": {
          "base_uri": "https://localhost:8080/",
          "height": 1000
        },
        "id": "c07ced45",
        "outputId": "9fd0b67b-24b3-4411-e6aa-c4da619b510f"
      },
      "outputs": [],
      "source": [
        "import torch\n",
        "import torch.nn as nn\n",
        "import torch.nn.functional as F\n",
        "from torch.utils.data import DataLoader, Dataset\n",
        "from sklearn.metrics import accuracy_score\n",
        "from sklearn.model_selection import train_test_split\n",
        "import optuna\n",
        "\n",
        "class MLPModel(nn.Module):\n",
        "    def __init__(self, input_size, hidden_size, num_classes):\n",
        "        super(MLPModel, self).__init__()\n",
        "        self.fc1 = nn.Linear(input_size, hidden_size)\n",
        "        self.fc2 = nn.Linear(hidden_size, num_classes)\n",
        "\n",
        "    def forward(self, x):\n",
        "        x = F.relu(self.fc1(x))\n",
        "        x = self.fc2(x)\n",
        "        return x\n",
        "\n",
        "class SalaryDataset(Dataset):\n",
        "    def __init__(self, X, y=None):\n",
        "        self.X = torch.tensor(X, dtype=torch.float32)\n",
        "        self.y = torch.tensor(y, dtype=torch.long) if y is not None else None\n",
        "\n",
        "    def __len__(self):\n",
        "        return len(self.X)\n",
        "\n",
        "    def __getitem__(self, idx):\n",
        "        if self.y is not None:\n",
        "            return self.X[idx], self.y[idx]\n",
        "        return self.X[idx]\n",
        "\n",
        "X_train_original = X_train\n",
        "y_train_original = y_train\n",
        "\n",
        "X_train, X_val, y_train, y_val = train_test_split(\n",
        "    X_train_original,\n",
        "    y_train_original,\n",
        "    test_size=0.2,\n",
        "    random_state=42,\n",
        "    stratify=y_train_original\n",
        ")\n",
        "\n",
        "input_size = X_train.shape[1]\n",
        "num_classes = len(np.unique(y_train))\n",
        "\n",
        "train_dataset = SalaryDataset(X_train, y_train)\n",
        "val_dataset = SalaryDataset(X_val, y_val)\n",
        "\n",
        "def objective(trial):\n",
        "    hidden_size = trial.suggest_int(\"hidden_size\", 64, 256)\n",
        "    learning_rate = trial.suggest_loguniform(\"learning_rate\", 1e-4, 1e-3)\n",
        "    batch_size = trial.suggest_categorical(\"batch_size\", [64, 128, 256, 312])\n",
        "    num_epochs = trial.suggest_int(\"num_epochs\", 500, 2000)\n",
        "\n",
        "    train_loader = DataLoader(train_dataset, batch_size=batch_size, shuffle=True)\n",
        "    val_loader = DataLoader(val_dataset, batch_size=batch_size, shuffle=False)\n",
        "\n",
        "    model = MLPModel(input_size=input_size, hidden_size=hidden_size, num_classes=num_classes)\n",
        "\n",
        "    optimizer = torch.optim.Adam(model.parameters(), lr=learning_rate)\n",
        "    criterion = nn.CrossEntropyLoss()\n",
        "\n",
        "    for epoch in range(num_epochs):\n",
        "        model.train()\n",
        "        for inputs, labels in train_loader:\n",
        "            optimizer.zero_grad()\n",
        "            outputs = model(inputs)\n",
        "            loss = criterion(outputs, labels)\n",
        "            loss.backward()\n",
        "            optimizer.step()\n",
        "\n",
        "    model.eval()\n",
        "    all_labels = []\n",
        "    all_preds = []\n",
        "\n",
        "    with torch.no_grad():\n",
        "        for inputs, labels in val_loader:\n",
        "            outputs = model(inputs)\n",
        "            probs = torch.softmax(outputs, dim=1)\n",
        "            _, preds = torch.max(probs, 1)\n",
        "\n",
        "            all_labels.extend(labels.cpu().numpy())\n",
        "            all_preds.extend(preds.cpu().numpy())\n",
        "\n",
        "    accuracy = accuracy_score(all_labels, all_preds)\n",
        "    return accuracy\n",
        "\n",
        "study = optuna.create_study(direction=\"maximize\")\n",
        "\n",
        "study.optimize(objective, n_trials=50)\n",
        "\n",
        "print(\"Best parameters:\", study.best_params)\n",
        "print(\"Best accuracy:\", study.best_value)"
      ]
    },
    {
      "cell_type": "markdown",
      "id": "8813f39a",
      "metadata": {
        "id": "8813f39a"
      },
      "source": [
        "**Пока лучшая модель - catboost**"
      ]
    },
    {
      "cell_type": "code",
      "execution_count": null,
      "id": "eb75e399",
      "metadata": {
        "id": "eb75e399",
        "outputId": "3ae5eda3-3634-4d6c-d93d-139a024b58ae"
      },
      "outputs": [],
      "source": [
        "import pandas as pd\n",
        "from sklearn.preprocessing import LabelEncoder\n",
        "from catboost import CatBoostClassifier\n",
        "\n",
        "\n",
        "test = pd.read_csv('D:/PAC-Competition/engineers_salary_prediction/test.csv')\n",
        "\n",
        "le = LabelEncoder()\n",
        "test['job_title_encoded'] = le.fit_transform(test['job_title'])\n",
        "test['job_state_encoded'] = le.fit_transform(test['job_state'])\n",
        "\n",
        "test['job_posted_date'] = pd.to_datetime(test['job_posted_date'])\n",
        "test['year'] = test['job_posted_date'].dt.year\n",
        "test['month'] = test['job_posted_date'].dt.month\n",
        "\n",
        "job_desc_columns = [f'job_desc_{str(i).zfill(3)}' for i in range(1, 301)]\n",
        "numeric_features = [f'feature_{i}' for i in range(1, 13)] + job_desc_columns + ['job_title_encoded', 'job_state_encoded', 'year', 'month']\n",
        "\n",
        "X_test = test[numeric_features]\n",
        "\n",
        "for col in X_test.columns:\n",
        "    if X_test[col].dtype == 'object':\n",
        "        X_test[col] = pd.to_numeric(X_test[col], errors='coerce')\n",
        "\n",
        "from_file = CatBoostClassifier()\n",
        "from_file.load_model(\"catboost_model.cbm\")\n",
        "\n",
        "# Проверка признаков\n",
        "# model_feature_names = from_file.get_feature_names()\n",
        "# test_feature_names = X_test.columns.tolist()\n",
        "\n",
        "# if test_feature_names == model_feature_names:\n",
        "#     print(\"Feature names match!\")\n",
        "# else:\n",
        "#     print(\"Feature names mismatch\")\n",
        "#     print(\"Missing features in X_test:\", set(model_feature_names) - set(test_feature_names))\n",
        "#     print(\"Extra features in X_test:\", set(test_feature_names) - set(model_feature_names))\n",
        "\n",
        "#     # Исправление несоответствий\n",
        "#     X_test = X_test.reindex(columns=model_feature_names, fill_value=0)\n",
        "\n",
        "predictions = from_file.predict(X_test)\n",
        "\n",
        "label_encoder = LabelEncoder()\n",
        "label_encoder.fit(['Low', 'Medium', 'High'])\n",
        "predicted_labels = label_encoder.inverse_transform(predictions)\n",
        "\n",
        "submission = pd.DataFrame({'obs': test['obs'], 'salary_category': predicted_labels})\n",
        "submission.to_csv('submission.csv', index=False)"
      ]
    }
  ],
  "metadata": {
    "colab": {
      "provenance": []
    },
    "kernelspec": {
      "display_name": "Python 3",
      "language": "python",
      "name": "python3"
    },
    "language_info": {
      "codemirror_mode": {
        "name": "ipython",
        "version": 3
      },
      "file_extension": ".py",
      "mimetype": "text/x-python",
      "name": "python",
      "nbconvert_exporter": "python",
      "pygments_lexer": "ipython3",
      "version": "3.12.10"
    },
    "widgets": {
      "application/vnd.jupyter.widget-state+json": {
        "ebe518ede00e4fbfa70efa0444345063": {
          "model_module": "catboost-widget",
          "model_module_version": "^1.0.0",
          "model_name": "CatboostWidgetModel",
          "state": {
            "_dom_classes": [],
            "_model_module": "catboost-widget",
            "_model_module_version": "^1.0.0",
            "_model_name": "CatboostWidgetModel",
            "_view_count": null,
            "_view_module": "catboost-widget",
            "_view_module_version": "^1.0.0",
            "_view_name": "CatboostWidgetView",
            "data": {
              "catboost_info": {
                "content": {
                  "data": {
                    "iterations": [
                      {
                        "iteration": 0,
                        "learn": [
                          0.5673828125,
                          1.042447795
                        ],
                        "passed_time": 0.4960388668,
                        "remaining_time": 346.7311679,
                        "test": [
                          0.48828125,
                          1.056595263
                        ]
                      },
                      {
                        "iteration": 1,
                        "learn": [
                          0.5869140625,
                          1.01427086
                        ],
                        "passed_time": 1.042371079,
                        "remaining_time": 363.7875066,
                        "test": [
                          0.515625,
                          1.040494033
                        ]
                      },
                      {
                        "iteration": 2,
                        "learn": [
                          0.642578125,
                          0.960810313
                        ],
                        "passed_time": 1.541876047,
                        "remaining_time": 358.2292017,
                        "test": [
                          0.58203125,
                          0.9949035098
                        ]
                      },
                      {
                        "iteration": 3,
                        "learn": [
                          0.6611328125,
                          0.938988164
                        ],
                        "passed_time": 2.156868924,
                        "remaining_time": 375.2951929,
                        "test": [
                          0.59375,
                          0.9857970498
                        ]
                      },
                      {
                        "iteration": 4,
                        "learn": [
                          0.671875,
                          0.9166271933
                        ],
                        "passed_time": 2.729229066,
                        "remaining_time": 379.3628402,
                        "test": [
                          0.60546875,
                          0.9709488183
                        ]
                      },
                      {
                        "iteration": 5,
                        "learn": [
                          0.6748046875,
                          0.8921820717
                        ],
                        "passed_time": 3.39447881,
                        "remaining_time": 392.628049,
                        "test": [
                          0.60546875,
                          0.953788749
                        ]
                      },
                      {
                        "iteration": 6,
                        "learn": [
                          0.6904296875,
                          0.8585672565
                        ],
                        "passed_time": 4.083252026,
                        "remaining_time": 404.2419506,
                        "test": [
                          0.63671875,
                          0.9310231973
                        ]
                      },
                      {
                        "iteration": 7,
                        "learn": [
                          0.68359375,
                          0.8317673128
                        ],
                        "passed_time": 4.719057297,
                        "remaining_time": 408.1984562,
                        "test": [
                          0.62890625,
                          0.9085493059
                        ]
                      },
                      {
                        "iteration": 8,
                        "learn": [
                          0.697265625,
                          0.8178659189
                        ],
                        "passed_time": 5.269560114,
                        "remaining_time": 404.5851154,
                        "test": [
                          0.63671875,
                          0.9065231912
                        ]
                      },
                      {
                        "iteration": 9,
                        "learn": [
                          0.7041015625,
                          0.7945373056
                        ],
                        "passed_time": 5.84025793,
                        "remaining_time": 402.9777972,
                        "test": [
                          0.65625,
                          0.884487649
                        ]
                      },
                      {
                        "iteration": 10,
                        "learn": [
                          0.708984375,
                          0.7699832843
                        ],
                        "passed_time": 6.2745592,
                        "remaining_time": 393.0155717,
                        "test": [
                          0.63671875,
                          0.8640083396
                        ]
                      },
                      {
                        "iteration": 11,
                        "learn": [
                          0.7197265625,
                          0.759878232
                        ],
                        "passed_time": 6.750177487,
                        "remaining_time": 387.0101759,
                        "test": [
                          0.640625,
                          0.8597699498
                        ]
                      },
                      {
                        "iteration": 12,
                        "learn": [
                          0.73046875,
                          0.7492058065
                        ],
                        "passed_time": 7.265082337,
                        "remaining_time": 383.9316589,
                        "test": [
                          0.64453125,
                          0.8579255204
                        ]
                      },
                      {
                        "iteration": 13,
                        "learn": [
                          0.7431640625,
                          0.7394614677
                        ],
                        "passed_time": 7.629539797,
                        "remaining_time": 373.8474501,
                        "test": [
                          0.65625,
                          0.852400473
                        ]
                      },
                      {
                        "iteration": 14,
                        "learn": [
                          0.75,
                          0.7291549832
                        ],
                        "passed_time": 8.059161973,
                        "remaining_time": 368.0350634,
                        "test": [
                          0.6640625,
                          0.8457008579
                        ]
                      },
                      {
                        "iteration": 15,
                        "learn": [
                          0.755859375,
                          0.7194457958
                        ],
                        "passed_time": 8.473453059,
                        "remaining_time": 362.2401183,
                        "test": [
                          0.671875,
                          0.8465094257
                        ]
                      },
                      {
                        "iteration": 16,
                        "learn": [
                          0.763671875,
                          0.7096550624
                        ],
                        "passed_time": 8.872288724,
                        "remaining_time": 356.457247,
                        "test": [
                          0.65625,
                          0.8422356654
                        ]
                      },
                      {
                        "iteration": 17,
                        "learn": [
                          0.7744140625,
                          0.6998372863
                        ],
                        "passed_time": 9.277366532,
                        "remaining_time": 351.5091097,
                        "test": [
                          0.65625,
                          0.8418172234
                        ]
                      },
                      {
                        "iteration": 18,
                        "learn": [
                          0.779296875,
                          0.6913780059
                        ],
                        "passed_time": 9.731059252,
                        "remaining_time": 348.78165,
                        "test": [
                          0.66015625,
                          0.8380118271
                        ]
                      },
                      {
                        "iteration": 19,
                        "learn": [
                          0.77734375,
                          0.6840810303
                        ],
                        "passed_time": 10.14577547,
                        "remaining_time": 344.9563661,
                        "test": [
                          0.6640625,
                          0.8335465611
                        ]
                      },
                      {
                        "iteration": 20,
                        "learn": [
                          0.77734375,
                          0.6774963926
                        ],
                        "passed_time": 10.63352046,
                        "remaining_time": 343.8171616,
                        "test": [
                          0.66796875,
                          0.8281868163
                        ]
                      },
                      {
                        "iteration": 21,
                        "learn": [
                          0.7880859375,
                          0.6680358856
                        ],
                        "passed_time": 11.15833295,
                        "remaining_time": 343.8795336,
                        "test": [
                          0.66015625,
                          0.826661847
                        ]
                      },
                      {
                        "iteration": 22,
                        "learn": [
                          0.78515625,
                          0.6564944045
                        ],
                        "passed_time": 11.83603494,
                        "remaining_time": 348.3911153,
                        "test": [
                          0.65234375,
                          0.8188739408
                        ]
                      },
                      {
                        "iteration": 23,
                        "learn": [
                          0.7900390625,
                          0.6496783218
                        ],
                        "passed_time": 12.05107179,
                        "remaining_time": 339.4385221,
                        "test": [
                          0.6640625,
                          0.8147651507
                        ]
                      },
                      {
                        "iteration": 24,
                        "learn": [
                          0.802734375,
                          0.6438241827
                        ],
                        "passed_time": 12.25492496,
                        "remaining_time": 330.8829739,
                        "test": [
                          0.671875,
                          0.8100240914
                        ]
                      },
                      {
                        "iteration": 25,
                        "learn": [
                          0.814453125,
                          0.6355061057
                        ],
                        "passed_time": 12.48951816,
                        "remaining_time": 323.76674,
                        "test": [
                          0.67578125,
                          0.8070855261
                        ]
                      },
                      {
                        "iteration": 26,
                        "learn": [
                          0.80859375,
                          0.623541871
                        ],
                        "passed_time": 12.70818772,
                        "remaining_time": 316.7633457,
                        "test": [
                          0.6796875,
                          0.8018751517
                        ]
                      },
                      {
                        "iteration": 27,
                        "learn": [
                          0.8076171875,
                          0.6127224429
                        ],
                        "passed_time": 12.94487566,
                        "remaining_time": 310.6770159,
                        "test": [
                          0.69140625,
                          0.7943235717
                        ]
                      },
                      {
                        "iteration": 28,
                        "learn": [
                          0.8193359375,
                          0.6041315461
                        ],
                        "passed_time": 13.14924151,
                        "remaining_time": 304.2462433,
                        "test": [
                          0.69140625,
                          0.7916076501
                        ]
                      },
                      {
                        "iteration": 29,
                        "learn": [
                          0.8173828125,
                          0.5970227427
                        ],
                        "passed_time": 13.33409628,
                        "remaining_time": 297.794817,
                        "test": [
                          0.6875,
                          0.7880821799
                        ]
                      },
                      {
                        "iteration": 30,
                        "learn": [
                          0.8251953125,
                          0.5925640204
                        ],
                        "passed_time": 13.56722714,
                        "remaining_time": 292.7895147,
                        "test": [
                          0.69140625,
                          0.7861999728
                        ]
                      },
                      {
                        "iteration": 31,
                        "learn": [
                          0.8310546875,
                          0.5864609025
                        ],
                        "passed_time": 13.79288943,
                        "remaining_time": 287.9265668,
                        "test": [
                          0.69140625,
                          0.7825289287
                        ]
                      },
                      {
                        "iteration": 32,
                        "learn": [
                          0.8408203125,
                          0.5800693081
                        ],
                        "passed_time": 13.99329359,
                        "remaining_time": 282.8341462,
                        "test": [
                          0.69921875,
                          0.7794683191
                        ]
                      },
                      {
                        "iteration": 33,
                        "learn": [
                          0.8330078125,
                          0.5699375019
                        ],
                        "passed_time": 14.17685648,
                        "remaining_time": 277.6996005,
                        "test": [
                          0.68359375,
                          0.7701563946
                        ]
                      },
                      {
                        "iteration": 34,
                        "learn": [
                          0.837890625,
                          0.5610805322
                        ],
                        "passed_time": 14.41263271,
                        "remaining_time": 273.8400214,
                        "test": [
                          0.6875,
                          0.7645843982
                        ]
                      },
                      {
                        "iteration": 35,
                        "learn": [
                          0.841796875,
                          0.5539005234
                        ],
                        "passed_time": 14.61333144,
                        "remaining_time": 269.5347799,
                        "test": [
                          0.6875,
                          0.7585428898
                        ]
                      },
                      {
                        "iteration": 36,
                        "learn": [
                          0.8447265625,
                          0.5484095193
                        ],
                        "passed_time": 14.82564808,
                        "remaining_time": 265.6595858,
                        "test": [
                          0.69140625,
                          0.7571743435
                        ]
                      },
                      {
                        "iteration": 37,
                        "learn": [
                          0.8408203125,
                          0.5447635623
                        ],
                        "passed_time": 15.02195123,
                        "remaining_time": 261.698203,
                        "test": [
                          0.69921875,
                          0.7565714725
                        ]
                      },
                      {
                        "iteration": 38,
                        "learn": [
                          0.8486328125,
                          0.531258581
                        ],
                        "passed_time": 15.27304315,
                        "remaining_time": 258.8585005,
                        "test": [
                          0.69921875,
                          0.7477949764
                        ]
                      },
                      {
                        "iteration": 39,
                        "learn": [
                          0.857421875,
                          0.5227109702
                        ],
                        "passed_time": 15.57787782,
                        "remaining_time": 257.0349841,
                        "test": [
                          0.6953125,
                          0.7453501267
                        ]
                      },
                      {
                        "iteration": 40,
                        "learn": [
                          0.86328125,
                          0.5154017244
                        ],
                        "passed_time": 15.93634176,
                        "remaining_time": 256.1475419,
                        "test": [
                          0.69921875,
                          0.7373854849
                        ]
                      },
                      {
                        "iteration": 41,
                        "learn": [
                          0.865234375,
                          0.5045447041
                        ],
                        "passed_time": 16.3119178,
                        "remaining_time": 255.5533788,
                        "test": [
                          0.71484375,
                          0.7293562901
                        ]
                      },
                      {
                        "iteration": 42,
                        "learn": [
                          0.873046875,
                          0.4950857105
                        ],
                        "passed_time": 16.63269365,
                        "remaining_time": 254.1320867,
                        "test": [
                          0.70703125,
                          0.726678161
                        ]
                      },
                      {
                        "iteration": 43,
                        "learn": [
                          0.869140625,
                          0.4843592764
                        ],
                        "passed_time": 17.0534446,
                        "remaining_time": 254.2513558,
                        "test": [
                          0.70703125,
                          0.7243325714
                        ]
                      },
                      {
                        "iteration": 44,
                        "learn": [
                          0.875,
                          0.4782825765
                        ],
                        "passed_time": 17.4208405,
                        "remaining_time": 253.5700117,
                        "test": [
                          0.7109375,
                          0.7202304989
                        ]
                      },
                      {
                        "iteration": 45,
                        "learn": [
                          0.875,
                          0.4680119903
                        ],
                        "passed_time": 17.82019026,
                        "remaining_time": 253.3566181,
                        "test": [
                          0.71484375,
                          0.710152867
                        ]
                      },
                      {
                        "iteration": 46,
                        "learn": [
                          0.8798828125,
                          0.4610223991
                        ],
                        "passed_time": 18.263708,
                        "remaining_time": 253.7489643,
                        "test": [
                          0.71875,
                          0.7060429982
                        ]
                      },
                      {
                        "iteration": 47,
                        "learn": [
                          0.8916015625,
                          0.4508197517
                        ],
                        "passed_time": 18.64365808,
                        "remaining_time": 253.2430223,
                        "test": [
                          0.7265625,
                          0.7026687327
                        ]
                      },
                      {
                        "iteration": 48,
                        "learn": [
                          0.8994140625,
                          0.4438090465
                        ],
                        "passed_time": 19.09979017,
                        "remaining_time": 253.7543551,
                        "test": [
                          0.73828125,
                          0.6954257738
                        ]
                      },
                      {
                        "iteration": 49,
                        "learn": [
                          0.9033203125,
                          0.4386363253
                        ],
                        "passed_time": 19.32351562,
                        "remaining_time": 251.2057031,
                        "test": [
                          0.73046875,
                          0.6913642325
                        ]
                      },
                      {
                        "iteration": 50,
                        "learn": [
                          0.900390625,
                          0.4302681187
                        ],
                        "passed_time": 19.55118327,
                        "remaining_time": 248.798391,
                        "test": [
                          0.7265625,
                          0.6871126973
                        ]
                      },
                      {
                        "iteration": 51,
                        "learn": [
                          0.8994140625,
                          0.4230442005
                        ],
                        "passed_time": 19.75499024,
                        "remaining_time": 246.1775707,
                        "test": [
                          0.73046875,
                          0.6827905948
                        ]
                      },
                      {
                        "iteration": 52,
                        "learn": [
                          0.908203125,
                          0.4165726537
                        ],
                        "passed_time": 19.94619424,
                        "remaining_time": 243.4941071,
                        "test": [
                          0.73828125,
                          0.6831792652
                        ]
                      },
                      {
                        "iteration": 53,
                        "learn": [
                          0.9091796875,
                          0.4097946068
                        ],
                        "passed_time": 20.15511673,
                        "remaining_time": 241.1149149,
                        "test": [
                          0.74609375,
                          0.6784041247
                        ]
                      },
                      {
                        "iteration": 54,
                        "learn": [
                          0.9130859375,
                          0.4034941782
                        ],
                        "passed_time": 20.39313569,
                        "remaining_time": 239.155864,
                        "test": [
                          0.73828125,
                          0.6721185197
                        ]
                      },
                      {
                        "iteration": 55,
                        "learn": [
                          0.9150390625,
                          0.3994146883
                        ],
                        "passed_time": 20.59873506,
                        "remaining_time": 236.8854532,
                        "test": [
                          0.7421875,
                          0.6710826266
                        ]
                      },
                      {
                        "iteration": 56,
                        "learn": [
                          0.9169921875,
                          0.392906844
                        ],
                        "passed_time": 20.78739037,
                        "remaining_time": 234.496351,
                        "test": [
                          0.7421875,
                          0.6699635332
                        ]
                      },
                      {
                        "iteration": 57,
                        "learn": [
                          0.9208984375,
                          0.3866039048
                        ],
                        "passed_time": 20.97973401,
                        "remaining_time": 232.2239524,
                        "test": [
                          0.74609375,
                          0.6696264396
                        ]
                      },
                      {
                        "iteration": 58,
                        "learn": [
                          0.923828125,
                          0.3808581987
                        ],
                        "passed_time": 21.18716568,
                        "remaining_time": 230.1859864,
                        "test": [
                          0.7421875,
                          0.6686158639
                        ]
                      },
                      {
                        "iteration": 59,
                        "learn": [
                          0.9296875,
                          0.3765815124
                        ],
                        "passed_time": 21.36519544,
                        "remaining_time": 227.895418,
                        "test": [
                          0.7421875,
                          0.668694749
                        ]
                      },
                      {
                        "iteration": 60,
                        "learn": [
                          0.9248046875,
                          0.3720947343
                        ],
                        "passed_time": 21.5485784,
                        "remaining_time": 225.7301901,
                        "test": [
                          0.7421875,
                          0.6657709966
                        ]
                      },
                      {
                        "iteration": 61,
                        "learn": [
                          0.9345703125,
                          0.365027066
                        ],
                        "passed_time": 21.72265072,
                        "remaining_time": 223.5330832,
                        "test": [
                          0.7421875,
                          0.6656172532
                        ]
                      },
                      {
                        "iteration": 62,
                        "learn": [
                          0.935546875,
                          0.3602547976
                        ],
                        "passed_time": 21.9756235,
                        "remaining_time": 222.1979709,
                        "test": [
                          0.73828125,
                          0.6631529985
                        ]
                      },
                      {
                        "iteration": 63,
                        "learn": [
                          0.9365234375,
                          0.3554065591
                        ],
                        "passed_time": 22.19742904,
                        "remaining_time": 220.5869511,
                        "test": [
                          0.73828125,
                          0.6621195921
                        ]
                      },
                      {
                        "iteration": 64,
                        "learn": [
                          0.9365234375,
                          0.3514453794
                        ],
                        "passed_time": 22.39614032,
                        "remaining_time": 218.7930632,
                        "test": [
                          0.7421875,
                          0.659439771
                        ]
                      },
                      {
                        "iteration": 65,
                        "learn": [
                          0.939453125,
                          0.3459255083
                        ],
                        "passed_time": 22.62910084,
                        "remaining_time": 217.3765141,
                        "test": [
                          0.73828125,
                          0.6573114496
                        ]
                      },
                      {
                        "iteration": 66,
                        "learn": [
                          0.9384765625,
                          0.3408413888
                        ],
                        "passed_time": 22.83316759,
                        "remaining_time": 215.7223147,
                        "test": [
                          0.73046875,
                          0.6551697573
                        ]
                      },
                      {
                        "iteration": 67,
                        "learn": [
                          0.9404296875,
                          0.336144441
                        ],
                        "passed_time": 23.03657399,
                        "remaining_time": 214.1046288,
                        "test": [
                          0.734375,
                          0.6537841608
                        ]
                      },
                      {
                        "iteration": 68,
                        "learn": [
                          0.9453125,
                          0.3312964196
                        ],
                        "passed_time": 23.21694168,
                        "remaining_time": 212.3172493,
                        "test": [
                          0.73828125,
                          0.6533076628
                        ]
                      },
                      {
                        "iteration": 69,
                        "learn": [
                          0.947265625,
                          0.3284178725
                        ],
                        "passed_time": 23.46612776,
                        "remaining_time": 211.1951499,
                        "test": [
                          0.7421875,
                          0.6543919676
                        ]
                      },
                      {
                        "iteration": 70,
                        "learn": [
                          0.9462890625,
                          0.3230426067
                        ],
                        "passed_time": 23.67169282,
                        "remaining_time": 209.7111941,
                        "test": [
                          0.74609375,
                          0.6477954836
                        ]
                      },
                      {
                        "iteration": 71,
                        "learn": [
                          0.947265625,
                          0.3200373498
                        ],
                        "passed_time": 23.90337457,
                        "remaining_time": 208.4905449,
                        "test": [
                          0.74609375,
                          0.6497782694
                        ]
                      },
                      {
                        "iteration": 72,
                        "learn": [
                          0.9501953125,
                          0.3163747997
                        ],
                        "passed_time": 24.11623341,
                        "remaining_time": 207.1353199,
                        "test": [
                          0.7421875,
                          0.6512930337
                        ]
                      },
                      {
                        "iteration": 73,
                        "learn": [
                          0.953125,
                          0.3099020311
                        ],
                        "passed_time": 24.31989561,
                        "remaining_time": 205.7331709,
                        "test": [
                          0.73828125,
                          0.6502237707
                        ]
                      },
                      {
                        "iteration": 74,
                        "learn": [
                          0.953125,
                          0.3059527846
                        ],
                        "passed_time": 24.55433588,
                        "remaining_time": 204.6194657,
                        "test": [
                          0.7421875,
                          0.6488050495
                        ]
                      },
                      {
                        "iteration": 75,
                        "learn": [
                          0.955078125,
                          0.3020484538
                        ],
                        "passed_time": 24.74932254,
                        "remaining_time": 203.204964,
                        "test": [
                          0.74609375,
                          0.6468431316
                        ]
                      },
                      {
                        "iteration": 76,
                        "learn": [
                          0.95703125,
                          0.2996437258
                        ],
                        "passed_time": 24.93750408,
                        "remaining_time": 201.7670785,
                        "test": [
                          0.75390625,
                          0.6467105994
                        ]
                      },
                      {
                        "iteration": 77,
                        "learn": [
                          0.9580078125,
                          0.2944150004
                        ],
                        "passed_time": 25.12963176,
                        "remaining_time": 200.3927045,
                        "test": [
                          0.75390625,
                          0.645356592
                        ]
                      },
                      {
                        "iteration": 78,
                        "learn": [
                          0.958984375,
                          0.2916885053
                        ],
                        "passed_time": 25.31588879,
                        "remaining_time": 199.0021132,
                        "test": [
                          0.75390625,
                          0.6442814987
                        ]
                      },
                      {
                        "iteration": 79,
                        "learn": [
                          0.9599609375,
                          0.2900069237
                        ],
                        "passed_time": 25.56950593,
                        "remaining_time": 198.163671,
                        "test": [
                          0.7578125,
                          0.6423930423
                        ]
                      },
                      {
                        "iteration": 80,
                        "learn": [
                          0.962890625,
                          0.2874614321
                        ],
                        "passed_time": 25.76884251,
                        "remaining_time": 196.9248582,
                        "test": [
                          0.76171875,
                          0.6380502279
                        ]
                      },
                      {
                        "iteration": 81,
                        "learn": [
                          0.9638671875,
                          0.2834085453
                        ],
                        "passed_time": 26.01204855,
                        "remaining_time": 196.0420244,
                        "test": [
                          0.75390625,
                          0.6364233979
                        ]
                      },
                      {
                        "iteration": 82,
                        "learn": [
                          0.96484375,
                          0.2791616896
                        ],
                        "passed_time": 26.21141312,
                        "remaining_time": 194.8486976,
                        "test": [
                          0.76171875,
                          0.6341946887
                        ]
                      },
                      {
                        "iteration": 83,
                        "learn": [
                          0.96484375,
                          0.2764573781
                        ],
                        "passed_time": 26.41560856,
                        "remaining_time": 193.7144628,
                        "test": [
                          0.7578125,
                          0.6325076024
                        ]
                      },
                      {
                        "iteration": 84,
                        "learn": [
                          0.9658203125,
                          0.2738075362
                        ],
                        "passed_time": 26.65046087,
                        "remaining_time": 192.8239228,
                        "test": [
                          0.76171875,
                          0.6321441333
                        ]
                      },
                      {
                        "iteration": 85,
                        "learn": [
                          0.96484375,
                          0.2694213154
                        ],
                        "passed_time": 26.86784806,
                        "remaining_time": 191.8239385,
                        "test": [
                          0.7578125,
                          0.6331601711
                        ]
                      },
                      {
                        "iteration": 86,
                        "learn": [
                          0.9638671875,
                          0.2656953354
                        ],
                        "passed_time": 27.06694345,
                        "remaining_time": 190.7130613,
                        "test": [
                          0.75,
                          0.6337690202
                        ]
                      },
                      {
                        "iteration": 87,
                        "learn": [
                          0.9658203125,
                          0.2637440309
                        ],
                        "passed_time": 27.30235868,
                        "remaining_time": 189.8754944,
                        "test": [
                          0.75,
                          0.6335752425
                        ]
                      },
                      {
                        "iteration": 88,
                        "learn": [
                          0.966796875,
                          0.2603072052
                        ],
                        "passed_time": 27.53879845,
                        "remaining_time": 189.0584928,
                        "test": [
                          0.75,
                          0.6337313287
                        ]
                      },
                      {
                        "iteration": 89,
                        "learn": [
                          0.9677734375,
                          0.2574207938
                        ],
                        "passed_time": 27.77058408,
                        "remaining_time": 188.2228476,
                        "test": [
                          0.7578125,
                          0.6345191364
                        ]
                      },
                      {
                        "iteration": 90,
                        "learn": [
                          0.9697265625,
                          0.254761527
                        ],
                        "passed_time": 27.96792837,
                        "remaining_time": 187.1699821,
                        "test": [
                          0.76171875,
                          0.6336480589
                        ]
                      },
                      {
                        "iteration": 91,
                        "learn": [
                          0.970703125,
                          0.2519873356
                        ],
                        "passed_time": 28.16682964,
                        "remaining_time": 186.1460045,
                        "test": [
                          0.7734375,
                          0.6321224336
                        ]
                      },
                      {
                        "iteration": 92,
                        "learn": [
                          0.970703125,
                          0.249705089
                        ],
                        "passed_time": 28.34870346,
                        "remaining_time": 185.0286344,
                        "test": [
                          0.7734375,
                          0.6310240426
                        ]
                      },
                      {
                        "iteration": 93,
                        "learn": [
                          0.97265625,
                          0.2463245941
                        ],
                        "passed_time": 28.56881206,
                        "remaining_time": 184.1776607,
                        "test": [
                          0.77734375,
                          0.6315545774
                        ]
                      },
                      {
                        "iteration": 94,
                        "learn": [
                          0.9716796875,
                          0.2446238144
                        ],
                        "passed_time": 28.7450852,
                        "remaining_time": 183.0608057,
                        "test": [
                          0.7734375,
                          0.6289334146
                        ]
                      },
                      {
                        "iteration": 95,
                        "learn": [
                          0.970703125,
                          0.2418533968
                        ],
                        "passed_time": 28.98612169,
                        "remaining_time": 182.3710156,
                        "test": [
                          0.76171875,
                          0.628698514
                        ]
                      },
                      {
                        "iteration": 96,
                        "learn": [
                          0.96875,
                          0.239016763
                        ],
                        "passed_time": 29.23797115,
                        "remaining_time": 181.757697,
                        "test": [
                          0.75390625,
                          0.6248914883
                        ]
                      },
                      {
                        "iteration": 97,
                        "learn": [
                          0.96875,
                          0.2368146573
                        ],
                        "passed_time": 29.62392477,
                        "remaining_time": 181.9755379,
                        "test": [
                          0.7578125,
                          0.6243142228
                        ]
                      },
                      {
                        "iteration": 98,
                        "learn": [
                          0.96875,
                          0.2346018443
                        ],
                        "passed_time": 30.01650729,
                        "remaining_time": 182.221423,
                        "test": [
                          0.75390625,
                          0.6224379902
                        ]
                      },
                      {
                        "iteration": 99,
                        "learn": [
                          0.97265625,
                          0.2307430747
                        ],
                        "passed_time": 30.3735635,
                        "remaining_time": 182.241381,
                        "test": [
                          0.76171875,
                          0.6185078884
                        ]
                      },
                      {
                        "iteration": 100,
                        "learn": [
                          0.97265625,
                          0.228678023
                        ],
                        "passed_time": 30.70392874,
                        "remaining_time": 182.0955774,
                        "test": [
                          0.765625,
                          0.6177816597
                        ]
                      },
                      {
                        "iteration": 101,
                        "learn": [
                          0.97265625,
                          0.2282128028
                        ],
                        "passed_time": 31.07627136,
                        "remaining_time": 182.1922576,
                        "test": [
                          0.76171875,
                          0.6174202236
                        ]
                      },
                      {
                        "iteration": 102,
                        "learn": [
                          0.97265625,
                          0.2250017691
                        ],
                        "passed_time": 31.48611875,
                        "remaining_time": 182.4972125,
                        "test": [
                          0.765625,
                          0.6135513713
                        ]
                      },
                      {
                        "iteration": 103,
                        "learn": [
                          0.97265625,
                          0.2243384813
                        ],
                        "passed_time": 31.90972491,
                        "remaining_time": 182.8672697,
                        "test": [
                          0.76171875,
                          0.6141673574
                        ]
                      },
                      {
                        "iteration": 104,
                        "learn": [
                          0.974609375,
                          0.2215673897
                        ],
                        "passed_time": 32.38005793,
                        "remaining_time": 183.4869949,
                        "test": [
                          0.76953125,
                          0.6120011456
                        ]
                      },
                      {
                        "iteration": 105,
                        "learn": [
                          0.9755859375,
                          0.2190005995
                        ],
                        "passed_time": 32.74457229,
                        "remaining_time": 183.4931692,
                        "test": [
                          0.7578125,
                          0.6110950067
                        ]
                      },
                      {
                        "iteration": 106,
                        "learn": [
                          0.9755859375,
                          0.2170478312
                        ],
                        "passed_time": 33.11287482,
                        "remaining_time": 183.513409,
                        "test": [
                          0.76171875,
                          0.6103679589
                        ]
                      },
                      {
                        "iteration": 107,
                        "learn": [
                          0.974609375,
                          0.2149849113
                        ],
                        "passed_time": 33.34545345,
                        "remaining_time": 182.7824856,
                        "test": [
                          0.76171875,
                          0.6108828416
                        ]
                      },
                      {
                        "iteration": 108,
                        "learn": [
                          0.974609375,
                          0.2126328542
                        ],
                        "passed_time": 33.56374675,
                        "remaining_time": 181.9832507,
                        "test": [
                          0.7578125,
                          0.6114582648
                        ]
                      },
                      {
                        "iteration": 109,
                        "learn": [
                          0.98046875,
                          0.209124761
                        ],
                        "passed_time": 33.78560796,
                        "remaining_time": 181.2137154,
                        "test": [
                          0.76171875,
                          0.6085485618
                        ]
                      },
                      {
                        "iteration": 110,
                        "learn": [
                          0.9775390625,
                          0.2065293539
                        ],
                        "passed_time": 33.98614897,
                        "remaining_time": 180.3409166,
                        "test": [
                          0.765625,
                          0.6072934988
                        ]
                      },
                      {
                        "iteration": 111,
                        "learn": [
                          0.9775390625,
                          0.2051999853
                        ],
                        "passed_time": 34.17330748,
                        "remaining_time": 179.4098643,
                        "test": [
                          0.765625,
                          0.6061880073
                        ]
                      },
                      {
                        "iteration": 112,
                        "learn": [
                          0.9775390625,
                          0.2038450913
                        ],
                        "passed_time": 34.35623748,
                        "remaining_time": 178.4700124,
                        "test": [
                          0.76953125,
                          0.604648573
                        ]
                      },
                      {
                        "iteration": 113,
                        "learn": [
                          0.978515625,
                          0.2022291737
                        ],
                        "passed_time": 34.54134693,
                        "remaining_time": 177.554643,
                        "test": [
                          0.76171875,
                          0.6046352216
                        ]
                      },
                      {
                        "iteration": 114,
                        "learn": [
                          0.978515625,
                          0.1997173967
                        ],
                        "passed_time": 34.79338169,
                        "remaining_time": 176.9924199,
                        "test": [
                          0.77734375,
                          0.6012077087
                        ]
                      },
                      {
                        "iteration": 115,
                        "learn": [
                          0.982421875,
                          0.1970894824
                        ],
                        "passed_time": 35.01828841,
                        "remaining_time": 176.2989692,
                        "test": [
                          0.7734375,
                          0.6008269381
                        ]
                      },
                      {
                        "iteration": 116,
                        "learn": [
                          0.982421875,
                          0.1961672302
                        ],
                        "passed_time": 35.27574666,
                        "remaining_time": 175.7757291,
                        "test": [
                          0.76953125,
                          0.6006766416
                        ]
                      },
                      {
                        "iteration": 117,
                        "learn": [
                          0.982421875,
                          0.1940886006
                        ],
                        "passed_time": 35.51078584,
                        "remaining_time": 175.1464183,
                        "test": [
                          0.7734375,
                          0.6003030738
                        ]
                      },
                      {
                        "iteration": 118,
                        "learn": [
                          0.982421875,
                          0.1928040316
                        ],
                        "passed_time": 35.74553561,
                        "remaining_time": 174.5223209,
                        "test": [
                          0.7734375,
                          0.5999125227
                        ]
                      },
                      {
                        "iteration": 119,
                        "learn": [
                          0.982421875,
                          0.192152652
                        ],
                        "passed_time": 35.97030461,
                        "remaining_time": 173.8564723,
                        "test": [
                          0.77734375,
                          0.5998645451
                        ]
                      },
                      {
                        "iteration": 120,
                        "learn": [
                          0.982421875,
                          0.1905793916
                        ],
                        "passed_time": 36.21169764,
                        "remaining_time": 173.2774623,
                        "test": [
                          0.7734375,
                          0.5998269829
                        ]
                      },
                      {
                        "iteration": 121,
                        "learn": [
                          0.98046875,
                          0.1892355685
                        ],
                        "passed_time": 36.40929522,
                        "remaining_time": 172.496497,
                        "test": [
                          0.7734375,
                          0.601042792
                        ]
                      },
                      {
                        "iteration": 122,
                        "learn": [
                          0.98046875,
                          0.1881247457
                        ],
                        "passed_time": 36.59859429,
                        "remaining_time": 171.6860887,
                        "test": [
                          0.76953125,
                          0.6011082203
                        ]
                      },
                      {
                        "iteration": 123,
                        "learn": [
                          0.984375,
                          0.1848768417
                        ],
                        "passed_time": 36.83662343,
                        "remaining_time": 171.1120572,
                        "test": [
                          0.76953125,
                          0.6023742327
                        ]
                      },
                      {
                        "iteration": 124,
                        "learn": [
                          0.9853515625,
                          0.1828394657
                        ],
                        "passed_time": 37.08998941,
                        "remaining_time": 170.6139513,
                        "test": [
                          0.76953125,
                          0.6014462745
                        ]
                      },
                      {
                        "iteration": 125,
                        "learn": [
                          0.9833984375,
                          0.1805846531
                        ],
                        "passed_time": 37.33320799,
                        "remaining_time": 170.0735031,
                        "test": [
                          0.765625,
                          0.6001327393
                        ]
                      },
                      {
                        "iteration": 126,
                        "learn": [
                          0.9833984375,
                          0.1786213263
                        ],
                        "passed_time": 37.53517566,
                        "remaining_time": 169.3516193,
                        "test": [
                          0.765625,
                          0.5977609741
                        ]
                      },
                      {
                        "iteration": 127,
                        "learn": [
                          0.984375,
                          0.1774581394
                        ],
                        "passed_time": 37.7255207,
                        "remaining_time": 168.5859206,
                        "test": [
                          0.765625,
                          0.5998108676
                        ]
                      },
                      {
                        "iteration": 128,
                        "learn": [
                          0.984375,
                          0.1756695678
                        ],
                        "passed_time": 37.90145449,
                        "remaining_time": 167.7653528,
                        "test": [
                          0.765625,
                          0.5999989622
                        ]
                      },
                      {
                        "iteration": 129,
                        "learn": [
                          0.984375,
                          0.1742536838
                        ],
                        "passed_time": 38.10569874,
                        "remaining_time": 167.0788329,
                        "test": [
                          0.76953125,
                          0.600883214
                        ]
                      },
                      {
                        "iteration": 130,
                        "learn": [
                          0.984375,
                          0.171859141
                        ],
                        "passed_time": 38.29327513,
                        "remaining_time": 166.327279,
                        "test": [
                          0.76953125,
                          0.6007441269
                        ]
                      },
                      {
                        "iteration": 131,
                        "learn": [
                          0.984375,
                          0.1704211488
                        ],
                        "passed_time": 38.53670029,
                        "remaining_time": 165.8245891,
                        "test": [
                          0.76953125,
                          0.5983510291
                        ]
                      },
                      {
                        "iteration": 132,
                        "learn": [
                          0.984375,
                          0.170216545
                        ],
                        "passed_time": 38.7409722,
                        "remaining_time": 165.1588815,
                        "test": [
                          0.76953125,
                          0.5982748293
                        ]
                      },
                      {
                        "iteration": 133,
                        "learn": [
                          0.984375,
                          0.1694030404
                        ],
                        "passed_time": 38.97301162,
                        "remaining_time": 164.6173476,
                        "test": [
                          0.76953125,
                          0.5968552644
                        ]
                      },
                      {
                        "iteration": 134,
                        "learn": [
                          0.984375,
                          0.1680653466
                        ],
                        "passed_time": 39.19287456,
                        "remaining_time": 164.029438,
                        "test": [
                          0.76953125,
                          0.596687783
                        ]
                      },
                      {
                        "iteration": 135,
                        "learn": [
                          0.984375,
                          0.1661001789
                        ],
                        "passed_time": 39.43193658,
                        "remaining_time": 163.5265605,
                        "test": [
                          0.76171875,
                          0.5969470739
                        ]
                      },
                      {
                        "iteration": 136,
                        "learn": [
                          0.9853515625,
                          0.1641179113
                        ],
                        "passed_time": 39.63049916,
                        "remaining_time": 162.8611024,
                        "test": [
                          0.765625,
                          0.596712976
                        ]
                      },
                      {
                        "iteration": 137,
                        "learn": [
                          0.9853515625,
                          0.1639566178
                        ],
                        "passed_time": 39.82061509,
                        "remaining_time": 162.1680122,
                        "test": [
                          0.765625,
                          0.5965719097
                        ]
                      },
                      {
                        "iteration": 138,
                        "learn": [
                          0.9853515625,
                          0.162039975
                        ],
                        "passed_time": 40.05798441,
                        "remaining_time": 161.6728723,
                        "test": [
                          0.7734375,
                          0.5971239477
                        ]
                      },
                      {
                        "iteration": 139,
                        "learn": [
                          0.9853515625,
                          0.1613484374
                        ],
                        "passed_time": 40.28622081,
                        "remaining_time": 161.1448832,
                        "test": [
                          0.76953125,
                          0.5955076739
                        ]
                      },
                      {
                        "iteration": 140,
                        "learn": [
                          0.9853515625,
                          0.1600226765
                        ],
                        "passed_time": 40.47717258,
                        "remaining_time": 160.4733296,
                        "test": [
                          0.7734375,
                          0.5957321786
                        ]
                      },
                      {
                        "iteration": 141,
                        "learn": [
                          0.9853515625,
                          0.1585471046
                        ],
                        "passed_time": 40.66675381,
                        "remaining_time": 159.8031593,
                        "test": [
                          0.765625,
                          0.5947520268
                        ]
                      },
                      {
                        "iteration": 142,
                        "learn": [
                          0.9853515625,
                          0.1568533922
                        ],
                        "passed_time": 40.91099786,
                        "remaining_time": 159.352628,
                        "test": [
                          0.765625,
                          0.5944137437
                        ]
                      },
                      {
                        "iteration": 143,
                        "learn": [
                          0.984375,
                          0.1555778858
                        ],
                        "passed_time": 41.10557866,
                        "remaining_time": 158.7132065,
                        "test": [
                          0.76171875,
                          0.5943427814
                        ]
                      },
                      {
                        "iteration": 144,
                        "learn": [
                          0.9853515625,
                          0.1540423478
                        ],
                        "passed_time": 41.36712604,
                        "remaining_time": 158.3362411,
                        "test": [
                          0.7734375,
                          0.5948116679
                        ]
                      },
                      {
                        "iteration": 145,
                        "learn": [
                          0.9853515625,
                          0.1526644337
                        ],
                        "passed_time": 41.56600283,
                        "remaining_time": 157.7230519,
                        "test": [
                          0.7734375,
                          0.5939583072
                        ]
                      },
                      {
                        "iteration": 146,
                        "learn": [
                          0.986328125,
                          0.1519491723
                        ],
                        "passed_time": 41.75270102,
                        "remaining_time": 157.0696848,
                        "test": [
                          0.77734375,
                          0.5931632184
                        ]
                      },
                      {
                        "iteration": 147,
                        "learn": [
                          0.9853515625,
                          0.1503631762
                        ],
                        "passed_time": 41.93212475,
                        "remaining_time": 156.3954923,
                        "test": [
                          0.7734375,
                          0.5930848667
                        ]
                      },
                      {
                        "iteration": 148,
                        "learn": [
                          0.986328125,
                          0.1480289731
                        ],
                        "passed_time": 42.16259516,
                        "remaining_time": 155.9167109,
                        "test": [
                          0.7734375,
                          0.5927151491
                        ]
                      },
                      {
                        "iteration": 149,
                        "learn": [
                          0.986328125,
                          0.1465339193
                        ],
                        "passed_time": 42.39058194,
                        "remaining_time": 155.4321338,
                        "test": [
                          0.7734375,
                          0.5928578928
                        ]
                      },
                      {
                        "iteration": 150,
                        "learn": [
                          0.9873046875,
                          0.1450320565
                        ],
                        "passed_time": 42.62215203,
                        "remaining_time": 154.9639832,
                        "test": [
                          0.7734375,
                          0.5933420596
                        ]
                      },
                      {
                        "iteration": 151,
                        "learn": [
                          0.9873046875,
                          0.1435495081
                        ],
                        "passed_time": 42.83046551,
                        "remaining_time": 154.4150993,
                        "test": [
                          0.76953125,
                          0.5930678084
                        ]
                      },
                      {
                        "iteration": 152,
                        "learn": [
                          0.9873046875,
                          0.142644576
                        ],
                        "passed_time": 43.08965846,
                        "remaining_time": 154.0525698,
                        "test": [
                          0.7734375,
                          0.5925102895
                        ]
                      },
                      {
                        "iteration": 153,
                        "learn": [
                          0.98828125,
                          0.1413389316
                        ],
                        "passed_time": 43.45633754,
                        "remaining_time": 154.0724695,
                        "test": [
                          0.7734375,
                          0.5918769827
                        ]
                      },
                      {
                        "iteration": 154,
                        "learn": [
                          0.98828125,
                          0.1400309943
                        ],
                        "passed_time": 43.87085374,
                        "remaining_time": 154.2555825,
                        "test": [
                          0.7734375,
                          0.5919190616
                        ]
                      },
                      {
                        "iteration": 155,
                        "learn": [
                          0.98828125,
                          0.1399182274
                        ],
                        "passed_time": 44.30194213,
                        "remaining_time": 154.4888238,
                        "test": [
                          0.7734375,
                          0.5919718729
                        ]
                      },
                      {
                        "iteration": 156,
                        "learn": [
                          0.98828125,
                          0.1388032278
                        ],
                        "passed_time": 44.65530828,
                        "remaining_time": 154.4447923,
                        "test": [
                          0.77734375,
                          0.5925617827
                        ]
                      },
                      {
                        "iteration": 157,
                        "learn": [
                          0.98828125,
                          0.1387030152
                        ],
                        "passed_time": 45.0760097,
                        "remaining_time": 154.6278308,
                        "test": [
                          0.77734375,
                          0.5929281604
                        ]
                      },
                      {
                        "iteration": 158,
                        "learn": [
                          0.9873046875,
                          0.1372901118
                        ],
                        "passed_time": 45.49892905,
                        "remaining_time": 154.8108215,
                        "test": [
                          0.77734375,
                          0.5927254055
                        ]
                      },
                      {
                        "iteration": 159,
                        "learn": [
                          0.9873046875,
                          0.1372449985
                        ],
                        "passed_time": 45.87397107,
                        "remaining_time": 154.8246524,
                        "test": [
                          0.77734375,
                          0.5926913008
                        ]
                      },
                      {
                        "iteration": 160,
                        "learn": [
                          0.98828125,
                          0.1360449248
                        ],
                        "passed_time": 46.26488431,
                        "remaining_time": 154.8867866,
                        "test": [
                          0.77734375,
                          0.5925134359
                        ]
                      },
                      {
                        "iteration": 161,
                        "learn": [
                          0.98828125,
                          0.1349488422
                        ],
                        "passed_time": 46.68415029,
                        "remaining_time": 155.0374868,
                        "test": [
                          0.76953125,
                          0.5914523419
                        ]
                      },
                      {
                        "iteration": 162,
                        "learn": [
                          0.9892578125,
                          0.1338682235
                        ],
                        "passed_time": 47.04151317,
                        "remaining_time": 154.9772551,
                        "test": [
                          0.7734375,
                          0.591112188
                        ]
                      },
                      {
                        "iteration": 163,
                        "learn": [
                          0.9892578125,
                          0.1337398916
                        ],
                        "passed_time": 47.25496457,
                        "remaining_time": 154.4430549,
                        "test": [
                          0.7734375,
                          0.5914543438
                        ]
                      },
                      {
                        "iteration": 164,
                        "learn": [
                          0.9892578125,
                          0.1327298127
                        ],
                        "passed_time": 47.49320789,
                        "remaining_time": 153.9931286,
                        "test": [
                          0.77734375,
                          0.5909053417
                        ]
                      },
                      {
                        "iteration": 165,
                        "learn": [
                          0.9873046875,
                          0.1316571064
                        ],
                        "passed_time": 47.71723738,
                        "remaining_time": 153.5000287,
                        "test": [
                          0.7734375,
                          0.589476327
                        ]
                      },
                      {
                        "iteration": 166,
                        "learn": [
                          0.98828125,
                          0.1309551857
                        ],
                        "passed_time": 47.9183268,
                        "remaining_time": 152.9369352,
                        "test": [
                          0.7734375,
                          0.5903086971
                        ]
                      },
                      {
                        "iteration": 167,
                        "learn": [
                          0.98828125,
                          0.1299320212
                        ],
                        "passed_time": 48.16242928,
                        "remaining_time": 152.5143594,
                        "test": [
                          0.7734375,
                          0.5887937807
                        ]
                      },
                      {
                        "iteration": 168,
                        "learn": [
                          0.98828125,
                          0.1298628871
                        ],
                        "passed_time": 48.36401159,
                        "remaining_time": 151.9602968,
                        "test": [
                          0.7734375,
                          0.5889242526
                        ]
                      },
                      {
                        "iteration": 169,
                        "learn": [
                          0.9873046875,
                          0.1285308435
                        ],
                        "passed_time": 48.5757502,
                        "remaining_time": 151.4420447,
                        "test": [
                          0.77734375,
                          0.5897764216
                        ]
                      },
                      {
                        "iteration": 170,
                        "learn": [
                          0.9873046875,
                          0.1282916022
                        ],
                        "passed_time": 48.77667239,
                        "remaining_time": 150.8939163,
                        "test": [
                          0.7734375,
                          0.5899165838
                        ]
                      },
                      {
                        "iteration": 171,
                        "learn": [
                          0.9873046875,
                          0.1282626764
                        ],
                        "passed_time": 48.95583685,
                        "remaining_time": 150.2830341,
                        "test": [
                          0.7734375,
                          0.5899004683
                        ]
                      },
                      {
                        "iteration": 172,
                        "learn": [
                          0.9873046875,
                          0.1281878623
                        ],
                        "passed_time": 49.1409473,
                        "remaining_time": 149.6952556,
                        "test": [
                          0.7734375,
                          0.5897911143
                        ]
                      },
                      {
                        "iteration": 173,
                        "learn": [
                          0.9873046875,
                          0.1272129007
                        ],
                        "passed_time": 49.38225032,
                        "remaining_time": 149.2819751,
                        "test": [
                          0.7734375,
                          0.5894592505
                        ]
                      },
                      {
                        "iteration": 174,
                        "learn": [
                          0.9873046875,
                          0.1268841152
                        ],
                        "passed_time": 49.58756107,
                        "remaining_time": 148.7626832,
                        "test": [
                          0.77734375,
                          0.5888501233
                        ]
                      },
                      {
                        "iteration": 175,
                        "learn": [
                          0.98828125,
                          0.1262866612
                        ],
                        "passed_time": 49.80054003,
                        "remaining_time": 148.2697896,
                        "test": [
                          0.77734375,
                          0.5883524246
                        ]
                      },
                      {
                        "iteration": 176,
                        "learn": [
                          0.98828125,
                          0.1259764522
                        ],
                        "passed_time": 50.03590216,
                        "remaining_time": 147.8461968,
                        "test": [
                          0.77734375,
                          0.5885683394
                        ]
                      },
                      {
                        "iteration": 177,
                        "learn": [
                          0.9892578125,
                          0.1256344134
                        ],
                        "passed_time": 50.23567297,
                        "remaining_time": 147.3203443,
                        "test": [
                          0.77734375,
                          0.5887153599
                        ]
                      },
                      {
                        "iteration": 178,
                        "learn": [
                          0.9892578125,
                          0.1255194919
                        ],
                        "passed_time": 50.43029315,
                        "remaining_time": 146.7831438,
                        "test": [
                          0.77734375,
                          0.5887071162
                        ]
                      },
                      {
                        "iteration": 179,
                        "learn": [
                          0.9892578125,
                          0.1249271299
                        ],
                        "passed_time": 50.61486535,
                        "remaining_time": 146.2207221,
                        "test": [
                          0.77734375,
                          0.5876977953
                        ]
                      },
                      {
                        "iteration": 180,
                        "learn": [
                          0.9892578125,
                          0.1249008223
                        ],
                        "passed_time": 50.87269274,
                        "remaining_time": 145.8725278,
                        "test": [
                          0.77734375,
                          0.5876915315
                        ]
                      },
                      {
                        "iteration": 181,
                        "learn": [
                          0.9912109375,
                          0.1243679881
                        ],
                        "passed_time": 51.07347432,
                        "remaining_time": 145.3629654,
                        "test": [
                          0.7734375,
                          0.5882233162
                        ]
                      },
                      {
                        "iteration": 182,
                        "learn": [
                          0.9912109375,
                          0.1232741046
                        ],
                        "passed_time": 51.26971349,
                        "remaining_time": 144.8439447,
                        "test": [
                          0.77734375,
                          0.5883177743
                        ]
                      },
                      {
                        "iteration": 183,
                        "learn": [
                          0.990234375,
                          0.1221613103
                        ],
                        "passed_time": 51.45370409,
                        "remaining_time": 144.2940832,
                        "test": [
                          0.7734375,
                          0.5873653836
                        ]
                      },
                      {
                        "iteration": 184,
                        "learn": [
                          0.990234375,
                          0.121353766
                        ],
                        "passed_time": 51.69268425,
                        "remaining_time": 143.9012562,
                        "test": [
                          0.7734375,
                          0.5871037939
                        ]
                      },
                      {
                        "iteration": 185,
                        "learn": [
                          0.990234375,
                          0.1205366394
                        ],
                        "passed_time": 51.90951818,
                        "remaining_time": 143.4488836,
                        "test": [
                          0.7734375,
                          0.5874895373
                        ]
                      },
                      {
                        "iteration": 186,
                        "learn": [
                          0.9892578125,
                          0.1191961787
                        ],
                        "passed_time": 52.09625149,
                        "remaining_time": 142.9164546,
                        "test": [
                          0.78125,
                          0.5858058426
                        ]
                      },
                      {
                        "iteration": 187,
                        "learn": [
                          0.990234375,
                          0.1180267106
                        ],
                        "passed_time": 52.3324213,
                        "remaining_time": 142.5223389,
                        "test": [
                          0.77734375,
                          0.5862898912
                        ]
                      },
                      {
                        "iteration": 188,
                        "learn": [
                          0.9892578125,
                          0.117195982
                        ],
                        "passed_time": 52.55204111,
                        "remaining_time": 142.0851482,
                        "test": [
                          0.77734375,
                          0.5857186485
                        ]
                      },
                      {
                        "iteration": 189,
                        "learn": [
                          0.9892578125,
                          0.1159112523
                        ],
                        "passed_time": 52.786667,
                        "remaining_time": 141.6905272,
                        "test": [
                          0.76953125,
                          0.5861165871
                        ]
                      },
                      {
                        "iteration": 190,
                        "learn": [
                          0.9892578125,
                          0.1154138977
                        ],
                        "passed_time": 53.00391793,
                        "remaining_time": 141.2512787,
                        "test": [
                          0.76953125,
                          0.5867038296
                        ]
                      },
                      {
                        "iteration": 191,
                        "learn": [
                          0.9892578125,
                          0.114908681
                        ],
                        "passed_time": 53.23788295,
                        "remaining_time": 140.8585653,
                        "test": [
                          0.76953125,
                          0.5861694112
                        ]
                      },
                      {
                        "iteration": 192,
                        "learn": [
                          0.9912109375,
                          0.1139916597
                        ],
                        "passed_time": 53.44423243,
                        "remaining_time": 140.3949525,
                        "test": [
                          0.76953125,
                          0.5861752052
                        ]
                      },
                      {
                        "iteration": 193,
                        "learn": [
                          0.9921875,
                          0.1128168687
                        ],
                        "passed_time": 53.6874872,
                        "remaining_time": 140.0302501,
                        "test": [
                          0.76953125,
                          0.5870866919
                        ]
                      },
                      {
                        "iteration": 194,
                        "learn": [
                          0.9921875,
                          0.1119723338
                        ],
                        "passed_time": 53.88658601,
                        "remaining_time": 139.5524407,
                        "test": [
                          0.77734375,
                          0.5881079584
                        ]
                      },
                      {
                        "iteration": 195,
                        "learn": [
                          0.9921875,
                          0.111286138
                        ],
                        "passed_time": 54.13370908,
                        "remaining_time": 139.2009662,
                        "test": [
                          0.78125,
                          0.5875367195
                        ]
                      },
                      {
                        "iteration": 196,
                        "learn": [
                          0.9921875,
                          0.1105679893
                        ],
                        "passed_time": 54.332948,
                        "remaining_time": 138.7282885,
                        "test": [
                          0.77734375,
                          0.5870477802
                        ]
                      },
                      {
                        "iteration": 197,
                        "learn": [
                          0.9921875,
                          0.109962093
                        ],
                        "passed_time": 54.5838966,
                        "remaining_time": 138.3894752,
                        "test": [
                          0.78125,
                          0.5868449321
                        ]
                      },
                      {
                        "iteration": 198,
                        "learn": [
                          0.9921875,
                          0.1094854332
                        ],
                        "passed_time": 54.78667853,
                        "remaining_time": 137.9302811,
                        "test": [
                          0.77734375,
                          0.5868380093
                        ]
                      },
                      {
                        "iteration": 199,
                        "learn": [
                          0.9921875,
                          0.1086647238
                        ],
                        "passed_time": 55.03564034,
                        "remaining_time": 137.5891009,
                        "test": [
                          0.77734375,
                          0.5847395709
                        ]
                      },
                      {
                        "iteration": 200,
                        "learn": [
                          0.9921875,
                          0.1082571531
                        ],
                        "passed_time": 55.24506073,
                        "remaining_time": 137.1506732,
                        "test": [
                          0.77734375,
                          0.5841699955
                        ]
                      },
                      {
                        "iteration": 201,
                        "learn": [
                          0.9921875,
                          0.108229494
                        ],
                        "passed_time": 55.48135433,
                        "remaining_time": 136.7807646,
                        "test": [
                          0.77734375,
                          0.5841327976
                        ]
                      },
                      {
                        "iteration": 202,
                        "learn": [
                          0.9921875,
                          0.1077227168
                        ],
                        "passed_time": 55.68924861,
                        "remaining_time": 136.3426432,
                        "test": [
                          0.77734375,
                          0.5837442935
                        ]
                      },
                      {
                        "iteration": 203,
                        "learn": [
                          0.9921875,
                          0.1068763884
                        ],
                        "passed_time": 55.92476187,
                        "remaining_time": 135.9739308,
                        "test": [
                          0.78125,
                          0.5824684601
                        ]
                      },
                      {
                        "iteration": 204,
                        "learn": [
                          0.9921875,
                          0.1059921344
                        ],
                        "passed_time": 56.15547342,
                        "remaining_time": 135.5949236,
                        "test": [
                          0.77734375,
                          0.5828764902
                        ]
                      },
                      {
                        "iteration": 205,
                        "learn": [
                          0.9921875,
                          0.105466252
                        ],
                        "passed_time": 56.38600911,
                        "remaining_time": 135.2169345,
                        "test": [
                          0.77734375,
                          0.5826900409
                        ]
                      },
                      {
                        "iteration": 206,
                        "learn": [
                          0.9921875,
                          0.1047518631
                        ],
                        "passed_time": 56.6001415,
                        "remaining_time": 134.8013032,
                        "test": [
                          0.77734375,
                          0.5823865516
                        ]
                      },
                      {
                        "iteration": 207,
                        "learn": [
                          0.9921875,
                          0.1042229047
                        ],
                        "passed_time": 56.79815425,
                        "remaining_time": 134.3494802,
                        "test": [
                          0.77734375,
                          0.5813291672
                        ]
                      },
                      {
                        "iteration": 208,
                        "learn": [
                          0.9921875,
                          0.1031211541
                        ],
                        "passed_time": 57.07624977,
                        "remaining_time": 134.0882231,
                        "test": [
                          0.78125,
                          0.5822046351
                        ]
                      },
                      {
                        "iteration": 209,
                        "learn": [
                          0.9921875,
                          0.1022856576
                        ],
                        "passed_time": 57.40077053,
                        "remaining_time": 133.9351312,
                        "test": [
                          0.78125,
                          0.5814320728
                        ]
                      },
                      {
                        "iteration": 210,
                        "learn": [
                          0.9921875,
                          0.101543295
                        ],
                        "passed_time": 57.72821932,
                        "remaining_time": 133.7872002,
                        "test": [
                          0.77734375,
                          0.5812702845
                        ]
                      },
                      {
                        "iteration": 211,
                        "learn": [
                          0.9931640625,
                          0.1006002082
                        ],
                        "passed_time": 58.08908127,
                        "remaining_time": 133.714489,
                        "test": [
                          0.77734375,
                          0.5813285267
                        ]
                      },
                      {
                        "iteration": 212,
                        "learn": [
                          0.9931640625,
                          0.09990549334
                        ],
                        "passed_time": 58.4830137,
                        "remaining_time": 133.7146839,
                        "test": [
                          0.77734375,
                          0.5807683802
                        ]
                      },
                      {
                        "iteration": 213,
                        "learn": [
                          0.9931640625,
                          0.09959692902
                        ],
                        "passed_time": 58.86786918,
                        "remaining_time": 133.6905814,
                        "test": [
                          0.78125,
                          0.581358076
                        ]
                      },
                      {
                        "iteration": 214,
                        "learn": [
                          0.9921875,
                          0.09877422842
                        ],
                        "passed_time": 59.2363433,
                        "remaining_time": 133.6261698,
                        "test": [
                          0.77734375,
                          0.5795085073
                        ]
                      },
                      {
                        "iteration": 215,
                        "learn": [
                          0.9921875,
                          0.09824170394
                        ],
                        "passed_time": 59.62801612,
                        "remaining_time": 133.610925,
                        "test": [
                          0.77734375,
                          0.5798948354
                        ]
                      },
                      {
                        "iteration": 216,
                        "learn": [
                          0.9931640625,
                          0.09819017145
                        ],
                        "passed_time": 60.08231927,
                        "remaining_time": 133.7316139,
                        "test": [
                          0.77734375,
                          0.5798657893
                        ]
                      },
                      {
                        "iteration": 217,
                        "learn": [
                          0.9931640625,
                          0.09756297953
                        ],
                        "passed_time": 60.47864125,
                        "remaining_time": 133.7188306,
                        "test": [
                          0.77734375,
                          0.5800672089
                        ]
                      },
                      {
                        "iteration": 218,
                        "learn": [
                          0.9931640625,
                          0.09751267699
                        ],
                        "passed_time": 60.86277762,
                        "remaining_time": 133.675781,
                        "test": [
                          0.77734375,
                          0.5801975713
                        ]
                      },
                      {
                        "iteration": 219,
                        "learn": [
                          0.9931640625,
                          0.09656258936
                        ],
                        "passed_time": 61.18729447,
                        "remaining_time": 133.4995516,
                        "test": [
                          0.77734375,
                          0.5813267295
                        ]
                      },
                      {
                        "iteration": 220,
                        "learn": [
                          0.9931640625,
                          0.09594386223
                        ],
                        "passed_time": 61.41795877,
                        "remaining_time": 133.1185622,
                        "test": [
                          0.7734375,
                          0.5821923082
                        ]
                      },
                      {
                        "iteration": 221,
                        "learn": [
                          0.9931640625,
                          0.09547121631
                        ],
                        "passed_time": 61.65239191,
                        "remaining_time": 132.747042,
                        "test": [
                          0.77734375,
                          0.5834836131
                        ]
                      },
                      {
                        "iteration": 222,
                        "learn": [
                          0.994140625,
                          0.09494185418
                        ],
                        "passed_time": 61.85197124,
                        "remaining_time": 132.3021986,
                        "test": [
                          0.77734375,
                          0.5835988729
                        ]
                      },
                      {
                        "iteration": 223,
                        "learn": [
                          0.9931640625,
                          0.09429417108
                        ],
                        "passed_time": 62.087882,
                        "remaining_time": 131.9367492,
                        "test": [
                          0.77734375,
                          0.5832693846
                        ]
                      },
                      {
                        "iteration": 224,
                        "learn": [
                          0.9931640625,
                          0.09426384836
                        ],
                        "passed_time": 62.29465031,
                        "remaining_time": 131.5109284,
                        "test": [
                          0.77734375,
                          0.5832968769
                        ]
                      },
                      {
                        "iteration": 225,
                        "learn": [
                          0.9931640625,
                          0.09421100834
                        ],
                        "passed_time": 62.4769426,
                        "remaining_time": 131.0357115,
                        "test": [
                          0.77734375,
                          0.5832477279
                        ]
                      },
                      {
                        "iteration": 226,
                        "learn": [
                          0.994140625,
                          0.09372630993
                        ],
                        "passed_time": 62.74141992,
                        "remaining_time": 130.7343243,
                        "test": [
                          0.77734375,
                          0.5837992804
                        ]
                      },
                      {
                        "iteration": 227,
                        "learn": [
                          0.994140625,
                          0.09319754835
                        ],
                        "passed_time": 62.94263984,
                        "remaining_time": 130.302307,
                        "test": [
                          0.77734375,
                          0.5826637997
                        ]
                      },
                      {
                        "iteration": 228,
                        "learn": [
                          0.994140625,
                          0.09210768453
                        ],
                        "passed_time": 63.13408829,
                        "remaining_time": 129.8522078,
                        "test": [
                          0.7734375,
                          0.5830222312
                        ]
                      },
                      {
                        "iteration": 229,
                        "learn": [
                          0.9931640625,
                          0.09157607052
                        ],
                        "passed_time": 63.37447311,
                        "remaining_time": 129.5043581,
                        "test": [
                          0.77734375,
                          0.5821503766
                        ]
                      },
                      {
                        "iteration": 230,
                        "learn": [
                          0.994140625,
                          0.09152953685
                        ],
                        "passed_time": 63.59383724,
                        "remaining_time": 129.1147605,
                        "test": [
                          0.77734375,
                          0.582094378
                        ]
                      },
                      {
                        "iteration": 231,
                        "learn": [
                          0.9931640625,
                          0.09104181958
                        ],
                        "passed_time": 63.8388828,
                        "remaining_time": 128.778436,
                        "test": [
                          0.77734375,
                          0.5818147313
                        ]
                      },
                      {
                        "iteration": 232,
                        "learn": [
                          0.9931640625,
                          0.09055839249
                        ],
                        "passed_time": 64.0386818,
                        "remaining_time": 128.3522077,
                        "test": [
                          0.77734375,
                          0.5817059946
                        ]
                      },
                      {
                        "iteration": 233,
                        "learn": [
                          0.994140625,
                          0.08990015822
                        ],
                        "passed_time": 64.23181792,
                        "remaining_time": 127.9146459,
                        "test": [
                          0.7734375,
                          0.5822739169
                        ]
                      },
                      {
                        "iteration": 234,
                        "learn": [
                          0.994140625,
                          0.08970189118
                        ],
                        "passed_time": 64.46571307,
                        "remaining_time": 127.5598152,
                        "test": [
                          0.76953125,
                          0.5826751768
                        ]
                      },
                      {
                        "iteration": 235,
                        "learn": [
                          0.9951171875,
                          0.08912771553
                        ],
                        "passed_time": 64.69164578,
                        "remaining_time": 127.1903544,
                        "test": [
                          0.7734375,
                          0.5806875133
                        ]
                      },
                      {
                        "iteration": 236,
                        "learn": [
                          0.994140625,
                          0.08842836935
                        ],
                        "passed_time": 64.94094459,
                        "remaining_time": 126.8677525,
                        "test": [
                          0.765625,
                          0.5807514882
                        ]
                      },
                      {
                        "iteration": 237,
                        "learn": [
                          0.994140625,
                          0.08814675795
                        ],
                        "passed_time": 65.14576865,
                        "remaining_time": 126.4594333,
                        "test": [
                          0.765625,
                          0.581122648
                        ]
                      },
                      {
                        "iteration": 238,
                        "learn": [
                          0.994140625,
                          0.08780546482
                        ],
                        "passed_time": 65.37895997,
                        "remaining_time": 126.1075337,
                        "test": [
                          0.765625,
                          0.5807541737
                        ]
                      },
                      {
                        "iteration": 239,
                        "learn": [
                          0.994140625,
                          0.08736392532
                        ],
                        "passed_time": 65.57575793,
                        "remaining_time": 125.6868694,
                        "test": [
                          0.765625,
                          0.5803779994
                        ]
                      },
                      {
                        "iteration": 240,
                        "learn": [
                          0.994140625,
                          0.08698540794
                        ],
                        "passed_time": 65.84446449,
                        "remaining_time": 125.4050174,
                        "test": [
                          0.765625,
                          0.5792639697
                        ]
                      },
                      {
                        "iteration": 241,
                        "learn": [
                          0.994140625,
                          0.08638587052
                        ],
                        "passed_time": 66.04043846,
                        "remaining_time": 124.9856232,
                        "test": [
                          0.765625,
                          0.5800602676
                        ]
                      },
                      {
                        "iteration": 242,
                        "learn": [
                          0.994140625,
                          0.08633873911
                        ],
                        "passed_time": 66.27498242,
                        "remaining_time": 124.6406048,
                        "test": [
                          0.765625,
                          0.580250122
                        ]
                      },
                      {
                        "iteration": 243,
                        "learn": [
                          0.994140625,
                          0.08586687521
                        ],
                        "passed_time": 66.4669345,
                        "remaining_time": 124.216894,
                        "test": [
                          0.765625,
                          0.5791727936
                        ]
                      },
                      {
                        "iteration": 244,
                        "learn": [
                          0.994140625,
                          0.08583277944
                        ],
                        "passed_time": 66.70174019,
                        "remaining_time": 123.8746604,
                        "test": [
                          0.765625,
                          0.5793680908
                        ]
                      },
                      {
                        "iteration": 245,
                        "learn": [
                          0.994140625,
                          0.08578280553
                        ],
                        "passed_time": 66.92880227,
                        "remaining_time": 123.5190091,
                        "test": [
                          0.765625,
                          0.5795960831
                        ]
                      },
                      {
                        "iteration": 246,
                        "learn": [
                          0.994140625,
                          0.0853169397
                        ],
                        "passed_time": 67.19662691,
                        "remaining_time": 123.2391579,
                        "test": [
                          0.765625,
                          0.578740182
                        ]
                      },
                      {
                        "iteration": 247,
                        "learn": [
                          0.994140625,
                          0.08529824991
                        ],
                        "passed_time": 67.4187189,
                        "remaining_time": 122.8760522,
                        "test": [
                          0.765625,
                          0.5787717915
                        ]
                      },
                      {
                        "iteration": 248,
                        "learn": [
                          0.994140625,
                          0.08513116344
                        ],
                        "passed_time": 67.64199759,
                        "remaining_time": 122.5162286,
                        "test": [
                          0.765625,
                          0.5788340168
                        ]
                      },
                      {
                        "iteration": 249,
                        "learn": [
                          0.9951171875,
                          0.08458953021
                        ],
                        "passed_time": 67.88445782,
                        "remaining_time": 122.1920241,
                        "test": [
                          0.765625,
                          0.5783515424
                        ]
                      },
                      {
                        "iteration": 250,
                        "learn": [
                          0.9951171875,
                          0.08390690094
                        ],
                        "passed_time": 68.07322159,
                        "remaining_time": 121.7724163,
                        "test": [
                          0.765625,
                          0.5786631327
                        ]
                      },
                      {
                        "iteration": 251,
                        "learn": [
                          0.9951171875,
                          0.08388614706
                        ],
                        "passed_time": 68.30724114,
                        "remaining_time": 121.4350954,
                        "test": [
                          0.765625,
                          0.5786695614
                        ]
                      },
                      {
                        "iteration": 252,
                        "learn": [
                          0.9951171875,
                          0.08380619417
                        ],
                        "passed_time": 68.5092491,
                        "remaining_time": 121.042033,
                        "test": [
                          0.765625,
                          0.57899493
                        ]
                      },
                      {
                        "iteration": 253,
                        "learn": [
                          0.9951171875,
                          0.08350046991
                        ],
                        "passed_time": 68.70159759,
                        "remaining_time": 120.6335139,
                        "test": [
                          0.765625,
                          0.578672022
                        ]
                      },
                      {
                        "iteration": 254,
                        "learn": [
                          0.9951171875,
                          0.08348011007
                        ],
                        "passed_time": 68.92609669,
                        "remaining_time": 120.2827962,
                        "test": [
                          0.765625,
                          0.5786883198
                        ]
                      },
                      {
                        "iteration": 255,
                        "learn": [
                          0.994140625,
                          0.08287486012
                        ],
                        "passed_time": 69.17173604,
                        "remaining_time": 119.9697297,
                        "test": [
                          0.765625,
                          0.5786124836
                        ]
                      },
                      {
                        "iteration": 256,
                        "learn": [
                          0.994140625,
                          0.08284751781
                        ],
                        "passed_time": 69.37219756,
                        "remaining_time": 119.5793133,
                        "test": [
                          0.765625,
                          0.5787190692
                        ]
                      },
                      {
                        "iteration": 257,
                        "learn": [
                          0.9951171875,
                          0.08224882548
                        ],
                        "passed_time": 69.56255538,
                        "remaining_time": 119.17306,
                        "test": [
                          0.765625,
                          0.5787353225
                        ]
                      },
                      {
                        "iteration": 258,
                        "learn": [
                          0.9951171875,
                          0.08222827761
                        ],
                        "passed_time": 69.75872754,
                        "remaining_time": 118.7783739,
                        "test": [
                          0.765625,
                          0.578759359
                        ]
                      },
                      {
                        "iteration": 259,
                        "learn": [
                          0.9951171875,
                          0.08204051824
                        ],
                        "passed_time": 69.98821543,
                        "remaining_time": 118.4415953,
                        "test": [
                          0.765625,
                          0.5782128818
                        ]
                      },
                      {
                        "iteration": 260,
                        "learn": [
                          0.9951171875,
                          0.08162190041
                        ],
                        "passed_time": 70.235009,
                        "remaining_time": 118.1347469,
                        "test": [
                          0.765625,
                          0.5787780076
                        ]
                      },
                      {
                        "iteration": 261,
                        "learn": [
                          0.9951171875,
                          0.08088249015
                        ],
                        "passed_time": 70.43966426,
                        "remaining_time": 117.757912,
                        "test": [
                          0.76171875,
                          0.5783008263
                        ]
                      },
                      {
                        "iteration": 262,
                        "learn": [
                          0.9951171875,
                          0.08062025103
                        ],
                        "passed_time": 70.63518433,
                        "remaining_time": 117.3672074,
                        "test": [
                          0.76171875,
                          0.5794956457
                        ]
                      },
                      {
                        "iteration": 263,
                        "learn": [
                          0.99609375,
                          0.08025574759
                        ],
                        "passed_time": 70.82262888,
                        "remaining_time": 116.9646447,
                        "test": [
                          0.76171875,
                          0.5794821833
                        ]
                      },
                      {
                        "iteration": 264,
                        "learn": [
                          0.99609375,
                          0.07970193102
                        ],
                        "passed_time": 71.03936085,
                        "remaining_time": 116.611781,
                        "test": [
                          0.76171875,
                          0.5791084354
                        ]
                      },
                      {
                        "iteration": 265,
                        "learn": [
                          0.99609375,
                          0.0792045701
                        ],
                        "passed_time": 71.39581885,
                        "remaining_time": 116.487915,
                        "test": [
                          0.76171875,
                          0.5806651376
                        ]
                      },
                      {
                        "iteration": 266,
                        "learn": [
                          0.99609375,
                          0.07895193563
                        ],
                        "passed_time": 71.7549447,
                        "remaining_time": 116.3666332,
                        "test": [
                          0.76171875,
                          0.5807961068
                        ]
                      },
                      {
                        "iteration": 267,
                        "learn": [
                          0.99609375,
                          0.078929192
                        ],
                        "passed_time": 72.12738427,
                        "remaining_time": 116.2650373,
                        "test": [
                          0.765625,
                          0.580706177
                        ]
                      },
                      {
                        "iteration": 268,
                        "learn": [
                          0.99609375,
                          0.07868912428
                        ],
                        "passed_time": 72.52318119,
                        "remaining_time": 116.1988517,
                        "test": [
                          0.765625,
                          0.5807728575
                        ]
                      },
                      {
                        "iteration": 269,
                        "learn": [
                          0.99609375,
                          0.07867358963
                        ],
                        "passed_time": 72.91473535,
                        "remaining_time": 116.1234674,
                        "test": [
                          0.765625,
                          0.5808754873
                        ]
                      },
                      {
                        "iteration": 270,
                        "learn": [
                          0.99609375,
                          0.0784784777
                        ],
                        "passed_time": 73.29229713,
                        "remaining_time": 116.0235995,
                        "test": [
                          0.765625,
                          0.5802451458
                        ]
                      },
                      {
                        "iteration": 271,
                        "learn": [
                          0.99609375,
                          0.0779071036
                        ],
                        "passed_time": 73.65099434,
                        "remaining_time": 115.8920058,
                        "test": [
                          0.76171875,
                          0.5804902293
                        ]
                      },
                      {
                        "iteration": 272,
                        "learn": [
                          0.99609375,
                          0.0778874143
                        ],
                        "passed_time": 74.0432217,
                        "remaining_time": 115.8111929,
                        "test": [
                          0.76171875,
                          0.5804386437
                        ]
                      },
                      {
                        "iteration": 273,
                        "learn": [
                          0.99609375,
                          0.07779518707
                        ],
                        "passed_time": 74.40636113,
                        "remaining_time": 115.6828826,
                        "test": [
                          0.765625,
                          0.5808045732
                        ]
                      },
                      {
                        "iteration": 274,
                        "learn": [
                          0.99609375,
                          0.07734376338
                        ],
                        "passed_time": 74.7432794,
                        "remaining_time": 115.5123409,
                        "test": [
                          0.765625,
                          0.5819427877
                        ]
                      },
                      {
                        "iteration": 275,
                        "learn": [
                          0.99609375,
                          0.0769230724
                        ],
                        "passed_time": 75.12693002,
                        "remaining_time": 115.4123853,
                        "test": [
                          0.765625,
                          0.5820571325
                        ]
                      },
                      {
                        "iteration": 276,
                        "learn": [
                          0.99609375,
                          0.07651118851
                        ],
                        "passed_time": 75.37549852,
                        "remaining_time": 115.1041006,
                        "test": [
                          0.765625,
                          0.5818331077
                        ]
                      },
                      {
                        "iteration": 277,
                        "learn": [
                          0.99609375,
                          0.07645192482
                        ],
                        "passed_time": 75.59596496,
                        "remaining_time": 114.7535871,
                        "test": [
                          0.765625,
                          0.5815790767
                        ]
                      },
                      {
                        "iteration": 278,
                        "learn": [
                          0.99609375,
                          0.07643928014
                        ],
                        "passed_time": 75.80576827,
                        "remaining_time": 114.3879156,
                        "test": [
                          0.765625,
                          0.5814914855
                        ]
                      },
                      {
                        "iteration": 279,
                        "learn": [
                          0.99609375,
                          0.07640289532
                        ],
                        "passed_time": 76.03107487,
                        "remaining_time": 114.0466123,
                        "test": [
                          0.765625,
                          0.581569432
                        ]
                      },
                      {
                        "iteration": 280,
                        "learn": [
                          0.99609375,
                          0.07601918949
                        ],
                        "passed_time": 76.26013185,
                        "remaining_time": 113.7117269,
                        "test": [
                          0.765625,
                          0.5812434332
                        ]
                      },
                      {
                        "iteration": 281,
                        "learn": [
                          0.99609375,
                          0.07578842084
                        ],
                        "passed_time": 76.46193189,
                        "remaining_time": 113.3371898,
                        "test": [
                          0.765625,
                          0.5808402756
                        ]
                      },
                      {
                        "iteration": 282,
                        "learn": [
                          0.99609375,
                          0.07533916318
                        ],
                        "passed_time": 76.70236747,
                        "remaining_time": 113.0208029,
                        "test": [
                          0.765625,
                          0.5816306403
                        ]
                      },
                      {
                        "iteration": 283,
                        "learn": [
                          0.99609375,
                          0.07519061141
                        ],
                        "passed_time": 76.90550232,
                        "remaining_time": 112.6503133,
                        "test": [
                          0.765625,
                          0.5814539043
                        ]
                      },
                      {
                        "iteration": 284,
                        "learn": [
                          0.99609375,
                          0.07514750376
                        ],
                        "passed_time": 77.09479504,
                        "remaining_time": 112.2608419,
                        "test": [
                          0.765625,
                          0.5814830962
                        ]
                      },
                      {
                        "iteration": 285,
                        "learn": [
                          0.99609375,
                          0.07508024804
                        ],
                        "passed_time": 77.29514301,
                        "remaining_time": 111.8887735,
                        "test": [
                          0.765625,
                          0.5814123704
                        ]
                      },
                      {
                        "iteration": 286,
                        "learn": [
                          0.99609375,
                          0.07506659257
                        ],
                        "passed_time": 77.50424469,
                        "remaining_time": 111.5304985,
                        "test": [
                          0.765625,
                          0.5813402389
                        ]
                      },
                      {
                        "iteration": 287,
                        "learn": [
                          0.99609375,
                          0.0743862407
                        ],
                        "passed_time": 77.76321835,
                        "remaining_time": 111.244604,
                        "test": [
                          0.765625,
                          0.5814913535
                        ]
                      },
                      {
                        "iteration": 288,
                        "learn": [
                          0.99609375,
                          0.07408124177
                        ],
                        "passed_time": 77.97802137,
                        "remaining_time": 110.8960788,
                        "test": [
                          0.765625,
                          0.5816922999
                        ]
                      },
                      {
                        "iteration": 289,
                        "learn": [
                          0.99609375,
                          0.07404648873
                        ],
                        "passed_time": 78.20046723,
                        "remaining_time": 110.5592813,
                        "test": [
                          0.765625,
                          0.5817357291
                        ]
                      },
                      {
                        "iteration": 290,
                        "learn": [
                          0.99609375,
                          0.07401160173
                        ],
                        "passed_time": 78.44546897,
                        "remaining_time": 110.2549718,
                        "test": [
                          0.765625,
                          0.5817145938
                        ]
                      },
                      {
                        "iteration": 291,
                        "learn": [
                          0.99609375,
                          0.0735855944
                        ],
                        "passed_time": 78.64889434,
                        "remaining_time": 109.8929757,
                        "test": [
                          0.765625,
                          0.5829931362
                        ]
                      },
                      {
                        "iteration": 292,
                        "learn": [
                          0.99609375,
                          0.07307654469
                        ],
                        "passed_time": 78.87846556,
                        "remaining_time": 109.5683805,
                        "test": [
                          0.765625,
                          0.5822244936
                        ]
                      },
                      {
                        "iteration": 293,
                        "learn": [
                          0.99609375,
                          0.07271383547
                        ],
                        "passed_time": 79.08197454,
                        "remaining_time": 109.208441,
                        "test": [
                          0.765625,
                          0.5823661102
                        ]
                      },
                      {
                        "iteration": 294,
                        "learn": [
                          0.99609375,
                          0.07269950729
                        ],
                        "passed_time": 79.29038612,
                        "remaining_time": 108.8562928,
                        "test": [
                          0.765625,
                          0.5823192905
                        ]
                      },
                      {
                        "iteration": 295,
                        "learn": [
                          0.99609375,
                          0.07268180988
                        ],
                        "passed_time": 79.5031312,
                        "remaining_time": 108.5110304,
                        "test": [
                          0.765625,
                          0.582224917
                        ]
                      },
                      {
                        "iteration": 296,
                        "learn": [
                          0.99609375,
                          0.07265018999
                        ],
                        "passed_time": 79.7379143,
                        "remaining_time": 108.1965638,
                        "test": [
                          0.765625,
                          0.5818704424
                        ]
                      },
                      {
                        "iteration": 297,
                        "learn": [
                          0.99609375,
                          0.07228542295
                        ],
                        "passed_time": 79.93777784,
                        "remaining_time": 107.8355258,
                        "test": [
                          0.76171875,
                          0.5818644941
                        ]
                      },
                      {
                        "iteration": 298,
                        "learn": [
                          0.99609375,
                          0.07226638383
                        ],
                        "passed_time": 80.19251115,
                        "remaining_time": 107.5491538,
                        "test": [
                          0.76171875,
                          0.581954534
                        ]
                      },
                      {
                        "iteration": 299,
                        "learn": [
                          0.99609375,
                          0.07207677387
                        ],
                        "passed_time": 80.39656794,
                        "remaining_time": 107.1954239,
                        "test": [
                          0.76171875,
                          0.5820804831
                        ]
                      },
                      {
                        "iteration": 300,
                        "learn": [
                          0.9970703125,
                          0.07185889845
                        ],
                        "passed_time": 80.60383063,
                        "remaining_time": 106.8469383,
                        "test": [
                          0.76171875,
                          0.5814556589
                        ]
                      },
                      {
                        "iteration": 301,
                        "learn": [
                          0.9970703125,
                          0.07183387831
                        ],
                        "passed_time": 80.78547051,
                        "remaining_time": 106.4656201,
                        "test": [
                          0.76171875,
                          0.5814062977
                        ]
                      },
                      {
                        "iteration": 302,
                        "learn": [
                          0.99609375,
                          0.0712795568
                        ],
                        "passed_time": 81.03041133,
                        "remaining_time": 106.1685587,
                        "test": [
                          0.76171875,
                          0.5810277965
                        ]
                      },
                      {
                        "iteration": 303,
                        "learn": [
                          0.99609375,
                          0.07126538938
                        ],
                        "passed_time": 81.24674095,
                        "remaining_time": 105.8345705,
                        "test": [
                          0.76171875,
                          0.580981623
                        ]
                      },
                      {
                        "iteration": 304,
                        "learn": [
                          0.99609375,
                          0.07110118494
                        ],
                        "passed_time": 81.49095634,
                        "remaining_time": 105.5374681,
                        "test": [
                          0.76171875,
                          0.5806670512
                        ]
                      },
                      {
                        "iteration": 305,
                        "learn": [
                          0.99609375,
                          0.07075207469
                        ],
                        "passed_time": 81.70568435,
                        "remaining_time": 105.2027439,
                        "test": [
                          0.76171875,
                          0.5821853947
                        ]
                      },
                      {
                        "iteration": 306,
                        "learn": [
                          0.9970703125,
                          0.07055796941
                        ],
                        "passed_time": 81.92381132,
                        "remaining_time": 104.8731526,
                        "test": [
                          0.76171875,
                          0.5824562446
                        ]
                      },
                      {
                        "iteration": 307,
                        "learn": [
                          0.9970703125,
                          0.07054009384
                        ],
                        "passed_time": 82.15522767,
                        "remaining_time": 104.5611988,
                        "test": [
                          0.76171875,
                          0.58251161
                        ]
                      },
                      {
                        "iteration": 308,
                        "learn": [
                          0.998046875,
                          0.07015902389
                        ],
                        "passed_time": 82.38559872,
                        "remaining_time": 104.2484437,
                        "test": [
                          0.76171875,
                          0.5830022008
                        ]
                      },
                      {
                        "iteration": 309,
                        "learn": [
                          0.9990234375,
                          0.06984892704
                        ],
                        "passed_time": 82.6399261,
                        "remaining_time": 103.9663586,
                        "test": [
                          0.76171875,
                          0.5832917227
                        ]
                      },
                      {
                        "iteration": 310,
                        "learn": [
                          0.9990234375,
                          0.06983386954
                        ],
                        "passed_time": 82.83751149,
                        "remaining_time": 103.613479,
                        "test": [
                          0.76171875,
                          0.5831260725
                        ]
                      },
                      {
                        "iteration": 311,
                        "learn": [
                          0.998046875,
                          0.06934134637
                        ],
                        "passed_time": 83.03313546,
                        "remaining_time": 103.2591556,
                        "test": [
                          0.76171875,
                          0.5825802178
                        ]
                      },
                      {
                        "iteration": 312,
                        "learn": [
                          0.998046875,
                          0.06908805925
                        ],
                        "passed_time": 83.21541628,
                        "remaining_time": 102.8893486,
                        "test": [
                          0.76171875,
                          0.5824436646
                        ]
                      },
                      {
                        "iteration": 313,
                        "learn": [
                          0.9990234375,
                          0.06852658814
                        ],
                        "passed_time": 83.48803687,
                        "remaining_time": 102.6317905,
                        "test": [
                          0.76171875,
                          0.5827405861
                        ]
                      },
                      {
                        "iteration": 314,
                        "learn": [
                          0.998046875,
                          0.06831655263
                        ],
                        "passed_time": 83.70113473,
                        "remaining_time": 102.3013869,
                        "test": [
                          0.76171875,
                          0.5822240586
                        ]
                      },
                      {
                        "iteration": 315,
                        "learn": [
                          0.9990234375,
                          0.06783883337
                        ],
                        "passed_time": 83.88622366,
                        "remaining_time": 101.9376895,
                        "test": [
                          0.76171875,
                          0.5819027122
                        ]
                      },
                      {
                        "iteration": 316,
                        "learn": [
                          0.9990234375,
                          0.06782842978
                        ],
                        "passed_time": 84.06468533,
                        "remaining_time": 101.5671119,
                        "test": [
                          0.76171875,
                          0.5819298301
                        ]
                      },
                      {
                        "iteration": 317,
                        "learn": [
                          0.9990234375,
                          0.06745222359
                        ],
                        "passed_time": 84.31868652,
                        "remaining_time": 101.2884851,
                        "test": [
                          0.76171875,
                          0.5813074126
                        ]
                      },
                      {
                        "iteration": 318,
                        "learn": [
                          0.9990234375,
                          0.06728268207
                        ],
                        "passed_time": 84.52488604,
                        "remaining_time": 100.9529203,
                        "test": [
                          0.76171875,
                          0.5812364641
                        ]
                      },
                      {
                        "iteration": 319,
                        "learn": [
                          0.9990234375,
                          0.06685797595
                        ],
                        "passed_time": 84.73787984,
                        "remaining_time": 100.6262323,
                        "test": [
                          0.76171875,
                          0.5816120956
                        ]
                      },
                      {
                        "iteration": 320,
                        "learn": [
                          0.9990234375,
                          0.06684930648
                        ],
                        "passed_time": 84.96870329,
                        "remaining_time": 100.3213039,
                        "test": [
                          0.76171875,
                          0.5815157312
                        ]
                      },
                      {
                        "iteration": 321,
                        "learn": [
                          0.9990234375,
                          0.06668665488
                        ],
                        "passed_time": 85.26432541,
                        "remaining_time": 100.0929037,
                        "test": [
                          0.76171875,
                          0.5810580126
                        ]
                      },
                      {
                        "iteration": 322,
                        "learn": [
                          0.9990234375,
                          0.06665745467
                        ],
                        "passed_time": 85.70207001,
                        "remaining_time": 100.0299703,
                        "test": [
                          0.76171875,
                          0.5809925986
                        ]
                      },
                      {
                        "iteration": 323,
                        "learn": [
                          0.9990234375,
                          0.06663074295
                        ],
                        "passed_time": 86.04802962,
                        "remaining_time": 99.85820722,
                        "test": [
                          0.76171875,
                          0.5810936515
                        ]
                      },
                      {
                        "iteration": 324,
                        "learn": [
                          0.9990234375,
                          0.06609174506
                        ],
                        "passed_time": 86.4943733,
                        "remaining_time": 99.80119996,
                        "test": [
                          0.76171875,
                          0.5814950062
                        ]
                      },
                      {
                        "iteration": 325,
                        "learn": [
                          0.9990234375,
                          0.0660326073
                        ],
                        "passed_time": 86.88480858,
                        "remaining_time": 99.67766383,
                        "test": [
                          0.76171875,
                          0.5812447863
                        ]
                      },
                      {
                        "iteration": 326,
                        "learn": [
                          0.9990234375,
                          0.06576838941
                        ],
                        "passed_time": 87.34040461,
                        "remaining_time": 99.62682238,
                        "test": [
                          0.76171875,
                          0.581009384
                        ]
                      },
                      {
                        "iteration": 327,
                        "learn": [
                          0.9990234375,
                          0.06575187961
                        ],
                        "passed_time": 87.7502958,
                        "remaining_time": 99.52167695,
                        "test": [
                          0.76171875,
                          0.5809176504
                        ]
                      },
                      {
                        "iteration": 328,
                        "learn": [
                          0.9990234375,
                          0.06541818527
                        ],
                        "passed_time": 88.17385342,
                        "remaining_time": 99.43009003,
                        "test": [
                          0.76171875,
                          0.5804935644
                        ]
                      },
                      {
                        "iteration": 329,
                        "learn": [
                          0.9990234375,
                          0.06537777292
                        ],
                        "passed_time": 88.5112356,
                        "remaining_time": 99.23987022,
                        "test": [
                          0.76171875,
                          0.5801770376
                        ]
                      },
                      {
                        "iteration": 330,
                        "learn": [
                          0.9990234375,
                          0.06535372526
                        ],
                        "passed_time": 88.96598566,
                        "remaining_time": 99.17960334,
                        "test": [
                          0.76171875,
                          0.5801267154
                        ]
                      },
                      {
                        "iteration": 331,
                        "learn": [
                          0.9990234375,
                          0.0650322276
                        ],
                        "passed_time": 89.19580517,
                        "remaining_time": 98.86763947,
                        "test": [
                          0.76171875,
                          0.5798464228
                        ]
                      },
                      {
                        "iteration": 332,
                        "learn": [
                          1,
                          0.06477987474
                        ],
                        "passed_time": 89.43995345,
                        "remaining_time": 98.57196071,
                        "test": [
                          0.76171875,
                          0.5790788336
                        ]
                      },
                      {
                        "iteration": 333,
                        "learn": [
                          0.9990234375,
                          0.06437861683
                        ],
                        "passed_time": 89.69100454,
                        "remaining_time": 98.28415468,
                        "test": [
                          0.76171875,
                          0.5794707102
                        ]
                      },
                      {
                        "iteration": 334,
                        "learn": [
                          0.9990234375,
                          0.06430422299
                        ],
                        "passed_time": 89.90106379,
                        "remaining_time": 97.95190532,
                        "test": [
                          0.76171875,
                          0.5793740423
                        ]
                      },
                      {
                        "iteration": 335,
                        "learn": [
                          1,
                          0.06399416831
                        ],
                        "passed_time": 90.15834142,
                        "remaining_time": 97.67153654,
                        "test": [
                          0.76171875,
                          0.5796827696
                        ]
                      },
                      {
                        "iteration": 336,
                        "learn": [
                          1,
                          0.06397999904
                        ],
                        "passed_time": 90.361872,
                        "remaining_time": 97.33341108,
                        "test": [
                          0.76171875,
                          0.5795720918
                        ]
                      },
                      {
                        "iteration": 337,
                        "learn": [
                          1,
                          0.06396130165
                        ],
                        "passed_time": 90.61506597,
                        "remaining_time": 97.04927184,
                        "test": [
                          0.76171875,
                          0.5797223846
                        ]
                      },
                      {
                        "iteration": 338,
                        "learn": [
                          1,
                          0.06391503683
                        ],
                        "passed_time": 90.80881352,
                        "remaining_time": 96.70201086,
                        "test": [
                          0.76171875,
                          0.5802996035
                        ]
                      },
                      {
                        "iteration": 339,
                        "learn": [
                          1,
                          0.06371268652
                        ],
                        "passed_time": 91.03896631,
                        "remaining_time": 96.39419962,
                        "test": [
                          0.76171875,
                          0.579373319
                        ]
                      },
                      {
                        "iteration": 340,
                        "learn": [
                          1,
                          0.06342835465
                        ],
                        "passed_time": 91.2634029,
                        "remaining_time": 96.08082593,
                        "test": [
                          0.76171875,
                          0.5789967089
                        ]
                      },
                      {
                        "iteration": 341,
                        "learn": [
                          1,
                          0.06313889863
                        ],
                        "passed_time": 91.45107192,
                        "remaining_time": 95.72948464,
                        "test": [
                          0.76171875,
                          0.5793259973
                        ]
                      },
                      {
                        "iteration": 342,
                        "learn": [
                          1,
                          0.06311210181
                        ],
                        "passed_time": 91.65171467,
                        "remaining_time": 95.39260099,
                        "test": [
                          0.76171875,
                          0.5792932401
                        ]
                      },
                      {
                        "iteration": 343,
                        "learn": [
                          1,
                          0.0629857988
                        ],
                        "passed_time": 91.82840401,
                        "remaining_time": 95.03172043,
                        "test": [
                          0.765625,
                          0.5793221854
                        ]
                      },
                      {
                        "iteration": 344,
                        "learn": [
                          1,
                          0.06270222981
                        ],
                        "passed_time": 92.00427696,
                        "remaining_time": 94.67106759,
                        "test": [
                          0.765625,
                          0.5796570359
                        ]
                      },
                      {
                        "iteration": 345,
                        "learn": [
                          1,
                          0.06269274446
                        ],
                        "passed_time": 92.26269532,
                        "remaining_time": 94.39593683,
                        "test": [
                          0.765625,
                          0.5797616503
                        ]
                      },
                      {
                        "iteration": 346,
                        "learn": [
                          1,
                          0.06237943421
                        ],
                        "passed_time": 92.46589373,
                        "remaining_time": 94.06472763,
                        "test": [
                          0.765625,
                          0.5797381074
                        ]
                      }
                    ],
                    "meta": {
                      "iteration_count": 700,
                      "launch_mode": "Train",
                      "learn_metrics": [
                        {
                          "best_value": "Max",
                          "name": "Accuracy"
                        },
                        {
                          "best_value": "Min",
                          "name": "MultiClass"
                        }
                      ],
                      "learn_sets": [
                        "learn"
                      ],
                      "name": "experiment",
                      "parameters": "",
                      "test_metrics": [
                        {
                          "best_value": "Max",
                          "name": "Accuracy"
                        },
                        {
                          "best_value": "Min",
                          "name": "MultiClass"
                        }
                      ],
                      "test_sets": [
                        "test"
                      ]
                    }
                  },
                  "passed_iterations": 346,
                  "total_iterations": 700
                },
                "name": "catboost_info",
                "path": "catboost_info"
              }
            },
            "layout": "IPY_MODEL_6a4f440b263a4623a084dacfc950330a"
          }
        }
      }
    }
  },
  "nbformat": 4,
  "nbformat_minor": 5
}
