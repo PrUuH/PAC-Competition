{
 "cells": [
  {
   "cell_type": "code",
   "execution_count": null,
   "id": "75b973a0",
   "metadata": {},
   "outputs": [],
   "source": [
    "import pandas as pd\n",
    "import numpy as np\n",
    "import matplotlib.pyplot as plt\n",
    "import seaborn as sns\n",
    "\n",
    "from geopy.distance import geodesic\n",
    "from sklearn.preprocessing import LabelEncoder\n",
    "from sklearn.preprocessing import StandardScaler\n",
    "from sklearn.model_selection import train_test_split\n",
    "from sklearn.tree import DecisionTreeRegressor\n",
    "from sklearn.ensemble import RandomForestRegressor\n",
    "from xgboost import XGBRegressor\n",
    "from lightgbm import LGBMRegressor\n",
    "from catboost import CatBoostRegressor\n",
    "from sklearn.metrics import mean_absolute_error, r2_score\n",
    "from category_encoders import TargetEncoder\n",
    "\n",
    "\n",
    "\n",
    "print(\"Done!\")"
   ]
  },
  {
   "cell_type": "code",
   "execution_count": null,
   "id": "f2fec03e",
   "metadata": {},
   "outputs": [],
   "source": [
    "dataset = \"D:/CDEK/AB_NYC_2019.csv\"\n",
    "data = pd.read_csv(dataset)\n",
    "print(data.info())\n",
    "print(data.describe())\n",
    "print(data.isnull().sum())\n",
    "\n",
    "plt.figure(figsize=(10, 4))\n",
    "sns.histplot(data['price'], bins = 500, kde = True)\n",
    "plt.title('Price distr')\n",
    "plt.show\n",
    "\n",
    "plt.figure(figsize=(12,6))\n",
    "sns.scatterplot(x = 'longitude', y = 'latitude', hue = 'price', data=data, palette = 'coolwarm', alpha = 0.5)\n",
    "plt.title(\"Geo price distr\")\n",
    "plt.show()"
   ]
  },
  {
   "cell_type": "code",
   "execution_count": null,
   "id": "06aee826",
   "metadata": {},
   "outputs": [],
   "source": [
    "data['name'].fillna('Unknown', inplace = True)\n",
    "data['host_name'].fillna('Unknown', inplace = True)\n",
    "data['last_review'].fillna('2000-01-01', inplace=True) #for test preprocessing\n",
    "data['reviews_per_month'].fillna(0, inplace=True)\n",
    "data['last_review'] = pd.to_datetime(data['last_review'])\n",
    "data['last_review_year'] = data['last_review'].dt.year\n",
    "data['price_per_review'] = data['price'] / (data['number_of_reviews'] + 1)\n",
    "\n",
    "TIMES_SQUARE = (40.7589, -73.9851)\n",
    "data['distance_to_center'] = data.apply(lambda row: geodesic((row['latitude'], row['longitude']), TIMES_SQUARE).km, axis = 1)\n",
    "\n",
    "label_encoder = LabelEncoder()\n",
    "data['neighbourhood'] = label_encoder.fit_transform(data['neighbourhood'])\n",
    "data['neighbourhood_group'] = label_encoder.fit_transform(data['neighbourhood_group'])\n",
    "data['room_type'] = label_encoder.fit_transform(data['room_type'])\n",
    "\n",
    "scaler = StandardScaler()\n",
    "numeric_columns = ['latitude', 'longitude', 'minimum_nights', 'number_of_reviews', 'reviews_per_month', 'calculated_host_listings_count', 'availability_365']\n",
    "data[numeric_columns] = scaler.fit_transform(data[numeric_columns])\n",
    "\n",
    "print(data.info())\n",
    "print(data.head())"
   ]
  },
  {
   "cell_type": "code",
   "execution_count": null,
   "id": "e270f126",
   "metadata": {},
   "outputs": [],
   "source": [
    "numeric_data = data.select_dtypes(include=[np.number])\n",
    "correlation_matrix = numeric_data.corr()\n",
    "\n",
    "plt.figure(figsize = (15, 15))\n",
    "sns.heatmap(correlation_matrix, annot = True, fmt = \".4f\", cmap = \"coolwarm\", cbar = True)\n",
    "plt.show()\n"
   ]
  },
  {
   "cell_type": "code",
   "execution_count": null,
   "id": "6a7912a3",
   "metadata": {},
   "outputs": [],
   "source": [
    "columns_to_drop = ['price_per_review', 'id']\n",
    "data.drop(columns = columns_to_drop, inplace = True)\n",
    "\n",
    "print(data.info())\n",
    "print(data.head())"
   ]
  },
  {
   "cell_type": "code",
   "execution_count": null,
   "id": "cf44c5a8",
   "metadata": {},
   "outputs": [],
   "source": [
    "X = data.drop(columns = ['price'])\n",
    "y = data['price']\n",
    "\n",
    "X_train, X_test, y_train, y_test = train_test_split(X, y, test_size = 0.3, random_state = 42)\n",
    "\n",
    "encoder = TargetEncoder()\n",
    "X_train['name'] = encoder.fit_transform(X_train['name'], y_train)\n",
    "X_test['name'] = encoder.transform(X_test['name'])\n",
    "\n",
    "print(X_train.dtypes)\n",
    "print(X_test.dtypes)"
   ]
  },
  {
   "cell_type": "code",
   "execution_count": null,
   "id": "6090c07d",
   "metadata": {},
   "outputs": [],
   "source": [
    "model_dt = DecisionTreeRegressor(max_depth = 2, random_state = 42)\n",
    "model_dt.fit(X_train, y_train)\n",
    "\n",
    "y_pred_dt = model_dt.predict(X_test)\n",
    "\n",
    "mae_dt = mean_absolute_error(y_test, y_pred_dt)\n",
    "r2_dt = r2_score(y_test, y_pred_dt)\n",
    "\n",
    "print(\"DecisionTreeRegressor:\")\n",
    "print(f\"MAE: {mae_dt:.4f}\")\n",
    "print(f\"R²: {r2_dt:.4f}\")"
   ]
  },
  {
   "cell_type": "code",
   "execution_count": null,
   "id": "532d81e1",
   "metadata": {},
   "outputs": [],
   "source": [
    "model_rf = RandomForestRegressor(n_estimators = 1000, max_depth = 20, random_state = 42)\n",
    "model_rf.fit(X_train, y_train)\n",
    "\n",
    "y_pred_rf = model_rf.predict(X_test)\n",
    "\n",
    "mae_rf = mean_absolute_error(y_test, y_pred_rf)\n",
    "r2_rf = r2_score(y_test, y_pred_rf)\n",
    "\n",
    "print(\"RandomForestRegressor:\")\n",
    "print(f\"MAE: {mae_rf:.2f}\")\n",
    "print(f\"R²: {r2_rf:.2f}\")"
   ]
  },
  {
   "cell_type": "code",
   "execution_count": null,
   "id": "ef36a4cd",
   "metadata": {},
   "outputs": [],
   "source": [
    "model_xgb = XGBRegressor(n_estimators = 5000, learning_rate = 0.001, max_depth = 10, random_state = 42)\n",
    "model_xgb.fit(X_train, y_train)\n",
    "\n",
    "y_pred_xgb = model_xgb.predict(X_test)\n",
    "\n",
    "mae_xgb = mean_absolute_error(y_test, y_pred_xgb)\n",
    "r2_xgb = r2_score(y_test, y_pred_xgb)\n",
    "\n",
    "print(\"XGBRegressor:\")\n",
    "print(f\"MAE: {mae_xgb:.2f}\")\n",
    "print(f\"R²: {r2_xgb:.2f}\")"
   ]
  },
  {
   "cell_type": "code",
   "execution_count": null,
   "id": "c3be9921",
   "metadata": {},
   "outputs": [],
   "source": [
    "model_lgbm = LGBMRegressor(n_estimators = 100, learning_rate = 0.1, max_depth = 2, random_state = 42)\n",
    "model_lgbm.fit(X_train, y_train)\n",
    "\n",
    "y_pred_lgbm = model_lgbm.predict(X_test)\n",
    "\n",
    "mae_lgbm = mean_absolute_error(y_test, y_pred_lgbm)\n",
    "r2_lgbm = r2_score(y_test, y_pred_lgbm)\n",
    "\n",
    "print(\"LGBMRegressor:\")\n",
    "print(f\"MAE: {mae_lgbm:.2f}\")\n",
    "print(f\"R²: {r2_lgbm:.2f}\")"
   ]
  },
  {
   "cell_type": "code",
   "execution_count": null,
   "id": "fe743589",
   "metadata": {},
   "outputs": [],
   "source": [
    "model_cb = CatBoostRegressor(iterations=1000, learning_rate=0.1, depth=5, random_state=42, verbose=100)\n",
    "model_cb.fit(X_train, y_train)\n",
    "\n",
    "y_pred_cb = model_cb.predict(X_test)\n",
    "\n",
    "mae_cb = mean_absolute_error(y_test, y_pred_cb)\n",
    "r2_cb = r2_score(y_test, y_pred_cb)\n",
    "\n",
    "print(\"CatBoostRegressor:\")\n",
    "print(f\"MAE: {mae_cb:.2f}\")\n",
    "print(f\"R²: {r2_cb:.2f}\")"
   ]
  }
 ],
 "metadata": {
  "kernelspec": {
   "display_name": "Python 3",
   "language": "python",
   "name": "python3"
  },
  "language_info": {
   "codemirror_mode": {
    "name": "ipython",
    "version": 3
   },
   "file_extension": ".py",
   "mimetype": "text/x-python",
   "name": "python",
   "nbconvert_exporter": "python",
   "pygments_lexer": "ipython3",
   "version": "3.12.10"
  }
 },
 "nbformat": 4,
 "nbformat_minor": 5
}
